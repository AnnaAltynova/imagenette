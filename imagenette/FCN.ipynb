{
 "cells": [
  {
   "cell_type": "code",
   "execution_count": 1,
   "id": "a8ac6ed7-be46-43b3-93ad-cb8415cf2bd1",
   "metadata": {},
   "outputs": [
    {
     "name": "stdout",
     "output_type": "stream",
     "text": [
      "env: CUDA_VISIBLE_DEVICES=0\n"
     ]
    }
   ],
   "source": [
    "%load_ext autoreload\n",
    "%env CUDA_VISIBLE_DEVICES = 0"
   ]
  },
  {
   "cell_type": "code",
   "execution_count": 4,
   "id": "5131b0a2-b46f-4c0a-98ed-63a298bb14bf",
   "metadata": {},
   "outputs": [],
   "source": [
    "import torch \n",
    "import torch.nn as nn\n",
    "import torch.nn.functional as F\n",
    "\n",
    "import numpy as np\n",
    "\n",
    "from models import DenseNet"
   ]
  },
  {
   "cell_type": "code",
   "execution_count": null,
   "id": "ef9c42da-c337-4c47-82e3-e0fa443ef06b",
   "metadata": {},
   "outputs": [
    {
     "data": {
      "text/plain": [
       "device(type='cuda')"
      ]
     },
     "execution_count": 3,
     "metadata": {},
     "output_type": "execute_result"
    }
   ],
   "source": [
    "device = torch.device('cuda')\n",
    "device"
   ]
  },
  {
   "cell_type": "code",
   "execution_count": 190,
   "id": "9f434344-7151-433d-92cb-26fab261c4f1",
   "metadata": {},
   "outputs": [],
   "source": [
    "class ConvBlock(nn.Sequential):\n",
    "    # preserves densenet convblock order\n",
    "        def __init__(self, stride=37, kernel_size=4, in_channels=10, out_channels=10, deconv=True):\n",
    "            layers = []\n",
    "            layers.append(nn.BatchNorm2d(num_features=in_channels))  \n",
    "            layers.append(nn.ReLU(inplace=True))\n",
    "            if deconv:\n",
    "                layers.append(nn.ConvTranspose2d(stride=stride, kernel_size=kernel_size,\n",
    "                                                 in_channels=in_channels, out_channels=out_channels, bias=False))\n",
    "            else:\n",
    "                layers.append(nn.Conv2d(stride=stride, kernel_size=kernel_size,\n",
    "                                                 in_channels=in_channels, out_channels=out_channels, bias=False))\n",
    "                                \n",
    "            super().__init__(*layers)\n",
    "            "
   ]
  },
  {
   "cell_type": "code",
   "execution_count": 205,
   "id": "02507e6b-b19f-49fc-9450-d4b52b7191a0",
   "metadata": {},
   "outputs": [],
   "source": [
    "class FCN(nn.Module):\n",
    "    \"\"\"FCN with DenseNet121 backbone\"\"\"\n",
    "    def __init__(self, num_classes=10):\n",
    "        super().__init__()\n",
    "        densenet_modules = nn.ModuleList(DenseNet().children())\n",
    "        self.blockpool1 = nn.Sequential(*densenet_modules[:7])    # transition 1, out (128, 28, 28)\n",
    "        self.blockpool2 = nn.Sequential(*densenet_modules[7:10])  # transition 2, out (256, 14, 14)\n",
    "        self.blockpool3 = nn.Sequential(*densenet_modules[10:13]) # transition 3, out (512, 7, 7)\n",
    "        self.block4 = densenet_modules[13]                        # DenseBlock4(BN-relu-conv), out (1024, 7, 7), avgpool4 не берем, т.к выход 1х1\n",
    "        \n",
    "        self.deconv4 = ConvBlock(stride=4, kernel_size=4, in_channels=1024, out_channels=128) # block4 -> blockpool1\n",
    "        self.deconv3 = ConvBlock(stride=4, kernel_size=4, in_channels=512, out_channels=128)  # blockpool3 -> blockpool1 \n",
    "        self.deconv2  = ConvBlock(stride=2, kernel_size=2, in_channels=256, out_channels=128) # blockpool2 -> blockpool1 \n",
    "        self.pointwise = ConvBlock(deconv=False, stride=1, kernel_size=1, in_channels=128 * 4, out_channels=num_classes) # reduce channels\n",
    "        self.classifier = ConvBlock(kernel_size=8, stride=8, in_channels=num_classes, out_channels=num_classes)\n",
    "\n",
    "        \n",
    "    def forward(self, x):\n",
    "        x = self.blockpool1(x)\n",
    "        pool1 = x\n",
    "        x = self.blockpool2(x)\n",
    "        pool2 = x\n",
    "        x = self.blockpool3(x)\n",
    "        pool3 = x\n",
    "        x = self.block4(x)\n",
    "    \n",
    "        x = self.deconv4(x)\n",
    "        pool3 = self.deconv3(pool3)\n",
    "        pool2 = self.deconv2(pool2)\n",
    "        \n",
    "        x = torch.cat([pool1, pool2, pool3, x], dim=1)\n",
    "        x = self.pointwise(x) \n",
    "        \n",
    "        x = self.classifier(x)\n",
    "        return x\n",
    "    "
   ]
  },
  {
   "cell_type": "code",
   "execution_count": 206,
   "id": "0487ebd3-b2a3-486e-8cce-7f4ed1c69a2b",
   "metadata": {},
   "outputs": [
    {
     "data": {
      "text/plain": [
       "torch.Size([5, 10, 224, 224])"
      ]
     },
     "execution_count": 206,
     "metadata": {},
     "output_type": "execute_result"
    }
   ],
   "source": [
    "net = FCN()\n",
    "inputs = torch.randn(5, 3, 224, 224)\n",
    "outputs = net(inputs)\n",
    "outputs.shape"
   ]
  }
 ],
 "metadata": {
  "kernelspec": {
   "display_name": "Python 3 (ipykernel)",
   "language": "python",
   "name": "python3"
  },
  "language_info": {
   "codemirror_mode": {
    "name": "ipython",
    "version": 3
   },
   "file_extension": ".py",
   "mimetype": "text/x-python",
   "name": "python",
   "nbconvert_exporter": "python",
   "pygments_lexer": "ipython3",
   "version": "3.8.10"
  }
 },
 "nbformat": 4,
 "nbformat_minor": 5
}
