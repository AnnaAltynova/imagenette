{
 "cells": [
  {
   "cell_type": "code",
   "execution_count": 1,
   "id": "f3960ce8-b623-4066-a451-1003aed5368e",
   "metadata": {},
   "outputs": [],
   "source": [
    "import numpy as np"
   ]
  },
  {
   "cell_type": "code",
   "execution_count": 2,
   "id": "5346aa53-603b-44cd-8aba-5d83d890947e",
   "metadata": {},
   "outputs": [],
   "source": [
    "# -- 1 --\n",
    "    # 1. Создайте массив длины 10, заполненный нулями\n",
    "    # 2. Сделайте полученный массив неизменяемым\n",
    "\n",
    "zeros = np.zeros(10)\n",
    "zeros.setflags(write=False)"
   ]
  },
  {
   "cell_type": "code",
   "execution_count": 3,
   "id": "6bfd2d77-6676-4342-988e-ea022c615ad6",
   "metadata": {},
   "outputs": [],
   "source": [
    "# -- 2 --\n",
    "    # 1. Создайте массив, содержащий 5 равноотстоящих точек, покрывающих диапазон от 0 до 2*pi\n",
    "    # 2. Создайте массив, содержащий 5 равноотстоящих в логарифмическом масштабе точек, покрывающих диапазон от 10 до 100\n",
    "    # 3. Составьте из полученных массивов координатную сеть (meshgrid)\n",
    "\n",
    "range_2pi = np.linspace(0, 2 * np.pi, 5)\n",
    "range_log = np.logspace(10, 100, 5)\n",
    "xv, yv = np.meshgrid(range_2pi, range_log, indexing='ij')"
   ]
  },
  {
   "cell_type": "code",
   "execution_count": 4,
   "id": "4721a922-a612-4a79-8592-2e0a19166000",
   "metadata": {},
   "outputs": [],
   "source": [
    "# -- 3 --\n",
    "    # Создайте двумерный массив 5х5 с элементами 1, 2, 3 и 4 под главной диагональю, остальные элементы заполните нулями\n",
    "\n",
    "eye = np.diag(range(1, 5), k=-1)"
   ]
  },
  {
   "cell_type": "code",
   "execution_count": 106,
   "id": "0dd8dc9c-1e96-4433-95df-012227f4542c",
   "metadata": {},
   "outputs": [],
   "source": [
    "# -- 4 --\n",
    "    # 1. Создайте функцию-генератор, последовательно возвращающую целые числа от 0 до 9\n",
    "    # 2. Создайте массив из построенного генератора\n",
    "    \n",
    "def my_iter():\n",
    "    for i in range(9):\n",
    "        yield i\n",
    "    return\n",
    "\n",
    "iter_arr = np.fromiter(my_iter(), dtype=int, count=9)"
   ]
  },
  {
   "cell_type": "code",
   "execution_count": 6,
   "id": "382f8896-2763-4013-a74e-18785301b4bf",
   "metadata": {},
   "outputs": [],
   "source": [
    "# -- 5 --\n",
    "    # Что будет выведено на экран?\n",
    "    # a = np.arange(4).reshape(2,2)  # dtype = int\n",
    "    # a += 0.5                       # error : нельзя сменить dtype(a) на float (+= inplace)\n",
    "    # print(a)                       "
   ]
  },
  {
   "cell_type": "code",
   "execution_count": 7,
   "id": "2aedece1-22cd-416e-83d5-179aaa09adac",
   "metadata": {},
   "outputs": [],
   "source": [
    "# -- 6 --\n",
    "    # Что будет выведено на экран?\n",
    "#     a = np.array([1])\n",
    "#     if a:                          # ([1] == [True]) => [True]\n",
    "#         print(\"True\")\n",
    "#     else:\n",
    "#         print(\"False\")\n",
    "\n",
    "#     a = np.array([1, 2, 3])        # ([1, 2, 3] == [True, True, True]) =>  [True, False, False]\n",
    "#     if a:                          # \"if [True, False, False]\" => error\n",
    "#         print(\"True\")\n",
    "#     else:\n",
    "#         print(\"False\")"
   ]
  },
  {
   "cell_type": "code",
   "execution_count": 8,
   "id": "a2bd5a72-e0f1-4678-918f-68453f2a0314",
   "metadata": {},
   "outputs": [],
   "source": [
    "# -- 7 --\n",
    "    # Что будет выведено на экран?   \n",
    "    # print(0 * np.nan)                  # nan * number = nan\n",
    "    # print(np.nan - np.nan)             # arithmetic_operation(nan, ...) = nan\n",
    "    # print(np.nan == np.nan)            # False, т.к., например, не хотелось бы: nan - nan = 0, nan / nan = 1\n",
    "    # print(np.nan is np.nan)            # True\n",
    "    # print(-np.inf < np.nan < np.inf)   # х <> nan всегда False, т.к. nan не число"
   ]
  },
  {
   "cell_type": "code",
   "execution_count": 9,
   "id": "43b491d4-7804-467c-816d-316c9b0c8458",
   "metadata": {},
   "outputs": [],
   "source": [
    "# -- 8 --\n",
    "    # Что будет выведено на экран? \n",
    "    # print(np.isnan(np.array([np.nan]).astype(np.int)))    #False, т.к nan только для float dtype, a dtype=int заменит nan на число"
   ]
  },
  {
   "cell_type": "code",
   "execution_count": 10,
   "id": "2b7f0d0e-555b-440e-ac9a-63b80de85162",
   "metadata": {},
   "outputs": [
    {
     "data": {
      "text/plain": [
       "array([9223372036854775808], dtype=uint64)"
      ]
     },
     "execution_count": 10,
     "metadata": {},
     "output_type": "execute_result"
    }
   ],
   "source": [
    "np.array([np.NINF]).astype(np.uint64) # ???"
   ]
  },
  {
   "cell_type": "code",
   "execution_count": 11,
   "id": "83d273cc-16da-4543-93b3-757ec2d624de",
   "metadata": {},
   "outputs": [
    {
     "data": {
      "text/plain": [
       "array([[ 0,  1,  2,  3],\n",
       "       [10, 11, 12, 13],\n",
       "       [20, 21, 22, 23],\n",
       "       [30, 31, 32, 33]])"
      ]
     },
     "execution_count": 11,
     "metadata": {},
     "output_type": "execute_result"
    }
   ],
   "source": [
    "# -- 9 --\n",
    "    # 1. Создайте масив из четырех элементов: 0, 10, 20, 30\n",
    "    # 2. Создайте двухмерный массив 4x5, в котором первый столбец - массив с шага 1, а каждый элемент каждой строки, начиная со второго, \n",
    "    # больше предыдущего элемента этой же строки на 1.\n",
    "    \n",
    "array = np.arange(0, 40, 10)\n",
    "array.reshape((4, 1)) + np.arange(4)"
   ]
  },
  {
   "cell_type": "code",
   "execution_count": 12,
   "id": "be1d136c-aad0-421e-b137-c2704e697954",
   "metadata": {},
   "outputs": [],
   "source": [
    "# -- 10 --\n",
    "    # Какой shape будет у результата операции np.arange(5).reshape(1,-1) + np.arange(5).reshape(-1,1)?\n",
    "    \n",
    "    # np.arange(5).reshape(1,-1) => строка (1, 5),\n",
    "    # np.arange(5).reshape(-1,1) => столбец (5, 1),\n",
    "    # + =>(broadcasting) (5, 5) "
   ]
  },
  {
   "cell_type": "code",
   "execution_count": 13,
   "id": "b04b6138-92bb-4870-952e-6f9a0d930d95",
   "metadata": {},
   "outputs": [
    {
     "data": {
      "text/plain": [
       "array([[1., 0., 1., 0., 1., 0., 1., 0.],\n",
       "       [0., 1., 0., 1., 0., 1., 0., 1.],\n",
       "       [1., 0., 1., 0., 1., 0., 1., 0.],\n",
       "       [0., 1., 0., 1., 0., 1., 0., 1.],\n",
       "       [1., 0., 1., 0., 1., 0., 1., 0.],\n",
       "       [0., 1., 0., 1., 0., 1., 0., 1.],\n",
       "       [1., 0., 1., 0., 1., 0., 1., 0.],\n",
       "       [0., 1., 0., 1., 0., 1., 0., 1.]])"
      ]
     },
     "execution_count": 13,
     "metadata": {},
     "output_type": "execute_result"
    }
   ],
   "source": [
    "# -- 11 --\n",
    "    # Создайте двумерный массив 8х8, заполненный 0 и 1 в шахматном порядке\n",
    "    \n",
    "chess_array = np.zeros((8,8))\n",
    "mask = np.arange(0, 8, 2)\n",
    "chess_array[mask, ::2] += 1\n",
    "chess_array[mask + 1, 1::2] += 1\n",
    "chess_array"
   ]
  },
  {
   "cell_type": "code",
   "execution_count": 14,
   "id": "faf96e43-1d75-421e-bfc4-be11d236f7ae",
   "metadata": {},
   "outputs": [
    {
     "data": {
      "text/plain": [
       "array([1., 0., 2., 0., 3., 0., 4.])"
      ]
     },
     "execution_count": 14,
     "metadata": {},
     "output_type": "execute_result"
    }
   ],
   "source": [
    "# -- 12 --\n",
    "    # 1. Создайте одномерный массив целых чисел от 1 до 5\n",
    "    # 2. Вставьте 0 между каждой парой соседних элементов\n",
    "array = np.arange(1, 5)\n",
    "result = np.zeros(7)\n",
    "result[::2] = array\n",
    "result"
   ]
  },
  {
   "cell_type": "code",
   "execution_count": 15,
   "id": "83146aa7-581c-414c-96db-7567efbc012d",
   "metadata": {},
   "outputs": [],
   "source": [
    "# -- 13 --\n",
    "    # Что будет выведено на экран?\n",
    "    # x = np.arange(36).reshape(2,3,2,3)\n",
    "    # print(x[...,0,...])                 # error, \"...\" можно только 1 раз\n",
    "                                          # (иначе неясно, до какого индекса \":\")"
   ]
  },
  {
   "cell_type": "code",
   "execution_count": 16,
   "id": "dd3659a7-5481-402e-9bbf-8b43097b1f2f",
   "metadata": {},
   "outputs": [
    {
     "name": "stdout",
     "output_type": "stream",
     "text": [
      "[[ 0  1  2  3]\n",
      " [ 4  5  6  7]\n",
      " [ 8  9 10 11]\n",
      " [12 13 14 15]]\n",
      "[[ 0  0  2  3]\n",
      " [ 0  0  6  7]\n",
      " [ 0  0 10 11]\n",
      " [ 0  0 14 15]]\n"
     ]
    }
   ],
   "source": [
    "# -- 14 --\n",
    "    #Что будет выведено на экран?\n",
    "x = np.arange(16).reshape(4,4)\n",
    "y = x[:,[2,3]]                 # y копирует 2,3 столбец х (advanced indexing)\n",
    "y[:] = 0                       # 2, 3 столбец y в 0\n",
    "print(x)                       # x без изменений\n",
    "y = x[:,:2]                    # y сслылается на 0, 1 столбец x \n",
    "y[:] = 0                       # 0, 1 столбец x в 0\n",
    "print(x)                       "
   ]
  },
  {
   "cell_type": "code",
   "execution_count": 17,
   "id": "6a74ee83-b67c-491a-8ff4-373667016988",
   "metadata": {},
   "outputs": [
    {
     "data": {
      "text/plain": [
       "array([0, 0, 0, 0, 0, 0, 1, 2, 3, 4])"
      ]
     },
     "execution_count": 17,
     "metadata": {},
     "output_type": "execute_result"
    }
   ],
   "source": [
    "# -- 15 --\n",
    "# Замените отрицательные элементы массива нулем.\n",
    "array = np.arange(-5, 5)\n",
    "array[array < 0] = 0\n",
    "array"
   ]
  },
  {
   "cell_type": "code",
   "execution_count": 18,
   "id": "3268b2d2-c3f2-4060-a28a-ddd6af58d312",
   "metadata": {},
   "outputs": [
    {
     "data": {
      "text/plain": [
       "array([[1, 2, 3],\n",
       "       [2, 2, 1]])"
      ]
     },
     "execution_count": 18,
     "metadata": {},
     "output_type": "execute_result"
    }
   ],
   "source": [
    "# -- 16 --\n",
    "    # На примере целочисленного массива\n",
    "    # x = np.array([[1,2,3], [1,1,1], [2,2,1], [2,2,2]], dtype=int) \n",
    "    # составьте новый массив, не содержащий строки,\n",
    "    # полностью заполненные одним уникальным значением.\n",
    "    \n",
    "x = np.array([[1,2,3], [1,1,1], [2,2,1], [2,2,2]], dtype=int) \n",
    "first_elements = x[:, 0].reshape(4, 1)\n",
    "x[np.any(x - first_elements, axis=1)]"
   ]
  },
  {
   "cell_type": "code",
   "execution_count": 19,
   "id": "a55ac568-5087-4b49-83ef-e8fbf49c9b3e",
   "metadata": {},
   "outputs": [
    {
     "name": "stdout",
     "output_type": "stream",
     "text": [
      "[3 8 3 3 4 5 0 9 1 3]\n"
     ]
    },
    {
     "data": {
      "text/plain": [
       "array([3, 3, 3, 0, 1])"
      ]
     },
     "execution_count": 19,
     "metadata": {},
     "output_type": "execute_result"
    }
   ],
   "source": [
    "# -- 17 --\n",
    "    # Для заданного одномерного массива x выведите все элементы,\n",
    "    # не превышающие своих соседей\n",
    "    # (первый и последний элемент сравниваются только со вторым и предпоследним соответственно).\n",
    "\n",
    "x = np.random.choice(10, 10)\n",
    "print(x)\n",
    "mask = np.ones_like(x, dtype=bool)\n",
    "mask[:len(x) - 1] = x[:len(x) - 1] <= x[1::]\n",
    "mask[1:] *= x[:len(x) - 1] >= x[1::]\n",
    "x[mask]"
   ]
  },
  {
   "cell_type": "code",
   "execution_count": 20,
   "id": "876744b2-6176-4467-83cc-6d91eacb781f",
   "metadata": {},
   "outputs": [
    {
     "name": "stdout",
     "output_type": "stream",
     "text": [
      "[[8 1 4]\n",
      " [3 6 1]\n",
      " [2 3 2]]\n"
     ]
    },
    {
     "data": {
      "text/plain": [
       "array([[8, 1, 4],\n",
       "       [2, 3, 2],\n",
       "       [3, 6, 1]])"
      ]
     },
     "execution_count": 20,
     "metadata": {},
     "output_type": "execute_result"
    }
   ],
   "source": [
    "# -- 18 --\n",
    "    # 1. Создайте двумерный массив 3x3, заполненный случайными числами от 0 до 9\n",
    "    # 2. Отсортируйте строки массива по возрастанию значения во втором столбце\n",
    "    \n",
    "array = np.random.choice(10, (3, 3))\n",
    "print(array)\n",
    "array[np.argsort(array[:, 1])]"
   ]
  },
  {
   "cell_type": "code",
   "execution_count": 21,
   "id": "caeeabb7-9216-42ee-98c0-de2b124dd3d5",
   "metadata": {},
   "outputs": [
    {
     "data": {
      "text/plain": [
       "array([[ 5,  6,  7,  8,  9],\n",
       "       [ 0,  1,  2,  3,  4],\n",
       "       [10, 11, 12, 13, 14],\n",
       "       [15, 16, 17, 18, 19]])"
      ]
     },
     "execution_count": 21,
     "metadata": {},
     "output_type": "execute_result"
    }
   ],
   "source": [
    "# -- 19 --\n",
    "    # Поменяйте местами первую и вторую строки двумерного массива\n",
    "    \n",
    "array = np.arange(20).reshape(4, 5)\n",
    "array[np.array([1,0, *range(2, len(array))])]"
   ]
  },
  {
   "cell_type": "code",
   "execution_count": 22,
   "id": "d65fd8a9-82b1-4e3f-85d9-5b982aa34a93",
   "metadata": {},
   "outputs": [
    {
     "name": "stdout",
     "output_type": "stream",
     "text": [
      "[[ 0  1  2  3  4]\n",
      " [ 5  6  7  8  9]\n",
      " [10 11 12 13 14]]\n",
      "[[ 1  3]\n",
      " [11 13]]\n"
     ]
    }
   ],
   "source": [
    "# -- 20 --\n",
    "    # 1. Создайте массив 3x5, заполненный числами от 0 до 14\n",
    "    # 2. Выберите 1, 3 строки и 2, 4 столбцы, не удаляя элементы из массива \n",
    "\n",
    "x = np.arange(15).reshape(3,5)\n",
    "print(x)\n",
    "y = x[np.ix_([0, 2], [1, 3])]       # ~ [[[0, 0], [2, 2]], [[1, 3], [1, 3]]]\n",
    "print(y)"
   ]
  },
  {
   "cell_type": "code",
   "execution_count": 23,
   "id": "3640b2ac-0dff-4245-b7e4-aae14399ab58",
   "metadata": {},
   "outputs": [
    {
     "name": "stdout",
     "output_type": "stream",
     "text": [
      "[1 2 2 3 4]\n",
      "[1 3 3 3 4]\n"
     ]
    }
   ],
   "source": [
    "# -- 21 --\n",
    "    # Что будет выведено на экран?\n",
    "    \n",
    "x = np.arange(5)       # x = [0, 1, 2, 3, 4]\n",
    "x[[0,0,1]] = range(3)  # x[0] = 0, x[0] = 1, x[1] = 2\n",
    "print(x)\n",
    "x[[1,2,1]] += 1        # x[1] = 3, x[2] = 3, x[1] != 4 (inplace нельзя 2 раза(?))\n",
    "print(x)"
   ]
  },
  {
   "cell_type": "code",
   "execution_count": 24,
   "id": "a6000546-34e8-4b97-a54f-19bdb793f578",
   "metadata": {},
   "outputs": [
    {
     "data": {
      "text/plain": [
       "((64,), (64,), (64,))"
      ]
     },
     "execution_count": 24,
     "metadata": {},
     "output_type": "execute_result"
    }
   ],
   "source": [
    "# -- 22 --\n",
    "    # Перечислите все известные вам способы преобразования заданного n-мерного массива в одномерный.\n",
    "    # Какой из способов работает быстрее и почему?\n",
    "\n",
    "array = np.arange(64).reshape((4, 4, 2, 2))\n",
    "ravelled_array = array.ravel()               # view почти всегда, гарантия contigious; быстрее reshape, почему хз(\n",
    "reshaped_array = array.reshape(-1)           # view, когда позволяют страйды, нет гарантии contigious\n",
    "flattened_array = array.flatten()            # возвращает копию => медленно\n",
    "ravelled_array.shape, reshaped_array.shape, flattened_array.shape"
   ]
  },
  {
   "cell_type": "code",
   "execution_count": 25,
   "id": "57359327-5bac-41d8-9c4a-2f12ce11ec07",
   "metadata": {},
   "outputs": [
    {
     "name": "stdout",
     "output_type": "stream",
     "text": [
      "[1 3 3 3 2 5 5 5 3 0]\n"
     ]
    },
    {
     "data": {
      "text/plain": [
       "array([1, 3, 3, 3, 2, 3, 3, 3, 3, 0])"
      ]
     },
     "execution_count": 25,
     "metadata": {},
     "output_type": "execute_result"
    }
   ],
   "source": [
    "# -- 23 --\n",
    "    # 1. Создайте массив, заполненный случайными значениями\n",
    "    # 2. Замените максимальные значения массива средним \n",
    "\n",
    "array = np.random.choice(6, 10)\n",
    "print(array)\n",
    "array[array == array.max()] = array.mean()\n",
    "array"
   ]
  },
  {
   "cell_type": "code",
   "execution_count": 26,
   "id": "9fd83282-949f-4038-b175-8f58fa8dfa2d",
   "metadata": {},
   "outputs": [
    {
     "name": "stdout",
     "output_type": "stream",
     "text": [
      "[[3 4 2]\n",
      " [3 6 8]\n",
      " [6 4 7]]\n"
     ]
    },
    {
     "data": {
      "text/plain": [
       "array([3.  , 4.25, 8.5 ])"
      ]
     },
     "execution_count": 26,
     "metadata": {},
     "output_type": "execute_result"
    }
   ],
   "source": [
    "# -- 24 --\n",
    "    # 1. Создайте двумерный массив 6x6, заполненный случайными значениями\n",
    "    # 2. Сумму по каждой строке поделите на минимальный элемент из столбца с тем же индексом\n",
    "    \n",
    "array = np.random.choice(range(1,10), (3, 3))\n",
    "print(array)\n",
    "array.sum(axis=1) / array.min(axis=0)\n"
   ]
  },
  {
   "cell_type": "code",
   "execution_count": 27,
   "id": "bada8f41-a374-4da0-b856-b4aff439ff5e",
   "metadata": {},
   "outputs": [
    {
     "name": "stdout",
     "output_type": "stream",
     "text": [
      "[ 1  4 10  2  3 16 12  5 17 15]\n"
     ]
    },
    {
     "data": {
      "text/plain": [
       "array([0.    , 0.1875, 0.5625, 0.0625, 0.125 , 0.9375, 0.6875, 0.25  ,\n",
       "       1.    , 0.875 ])"
      ]
     },
     "execution_count": 27,
     "metadata": {},
     "output_type": "execute_result"
    }
   ],
   "source": [
    "# -- 25 --\n",
    "    # 1. Создайте одномерный массив длины 10, заполненный случайными значениями\n",
    "    # 2. Линейно отобразите элементы массива в отрезок [0, 1], при этом минимальный элемент должен отобразиться в 0, а максимальный - в 1\n",
    "    \n",
    "array = np.random.choice(range(1, 20), 10)\n",
    "print(array)\n",
    "(array - array.min()) / (array.max()  - array.min())"
   ]
  },
  {
   "cell_type": "code",
   "execution_count": 28,
   "id": "ea972d1a-2a7f-4400-8968-9447f030285e",
   "metadata": {},
   "outputs": [
    {
     "name": "stdout",
     "output_type": "stream",
     "text": [
      "[[nan nan nan nan nan]\n",
      " [ 5.  6.  7.  8.  9.]\n",
      " [10. 11. 12. 13. 14.]\n",
      " [nan nan nan nan nan]]\n"
     ]
    },
    {
     "data": {
      "text/plain": [
       "array([[ 7.5,  8.5,  9.5, 10.5, 11.5],\n",
       "       [ 5. ,  6. ,  7. ,  8. ,  9. ],\n",
       "       [10. , 11. , 12. , 13. , 14. ],\n",
       "       [ 7.5,  8.5,  9.5, 10.5, 11.5]])"
      ]
     },
     "execution_count": 28,
     "metadata": {},
     "output_type": "execute_result"
    }
   ],
   "source": [
    "# -- 26 --\n",
    "    # Замените все вхождения nan в двумерный массив средним значением по соответствующему столбцу\n",
    "    \n",
    "array = np.arange(20, dtype=float).reshape(4, 5)\n",
    "array[::3] = np.nan\n",
    "print(array)\n",
    "np.nan_to_num(array, nan=np.nanmean(array, axis=0))\n"
   ]
  },
  {
   "cell_type": "code",
   "execution_count": 29,
   "id": "9c6a5e8e-9ac1-47d7-80d2-1ec6403439a8",
   "metadata": {},
   "outputs": [
    {
     "name": "stdout",
     "output_type": "stream",
     "text": [
      "[[ 0  0  2  3  4  0]\n",
      " [ 6  0  8  9 10  0]\n",
      " [12  0 14 15 16  0]\n",
      " [18  0 20 21 22  0]\n",
      " [24  0 26 27 28  0]\n",
      " [30  0 32 33 34  0]]\n"
     ]
    },
    {
     "data": {
      "text/plain": [
       "array([ True, False,  True,  True,  True, False])"
      ]
     },
     "execution_count": 29,
     "metadata": {},
     "output_type": "execute_result"
    }
   ],
   "source": [
    "# -- 27 --\n",
    "    # Проверьте, есть ли в двумерном массиве столбец, полностью заполненый нулями. \n",
    "\n",
    "array = np.arange(36).reshape(6, 6)\n",
    "array[:, 1::4] = np.zeros((6, 2))\n",
    "print(array)\n",
    "np.any(array, axis=0)"
   ]
  },
  {
   "cell_type": "code",
   "execution_count": 30,
   "id": "eaaf84e1-2af0-4711-a3f0-dfa100d9a593",
   "metadata": {},
   "outputs": [
    {
     "name": "stdout",
     "output_type": "stream",
     "text": [
      "[[[[7 1 3 2]\n",
      "   [8 8 1 9]\n",
      "   [4 6 2 5]]\n",
      "\n",
      "  [[1 8 6 9]\n",
      "   [5 4 8 8]\n",
      "   [9 1 0 2]]\n",
      "\n",
      "  [[7 0 7 3]\n",
      "   [0 0 0 9]\n",
      "   [3 3 9 1]]\n",
      "\n",
      "  [[3 9 8 6]\n",
      "   [3 1 4 5]\n",
      "   [2 2 8 2]]]\n",
      "\n",
      "\n",
      " [[[2 7 4 8]\n",
      "   [7 2 8 1]\n",
      "   [5 5 6 2]]\n",
      "\n",
      "  [[4 8 4 7]\n",
      "   [6 2 2 4]\n",
      "   [3 6 9 3]]\n",
      "\n",
      "  [[9 4 0 0]\n",
      "   [0 1 0 7]\n",
      "   [3 4 0 1]]\n",
      "\n",
      "  [[9 2 9 7]\n",
      "   [1 6 0 7]\n",
      "   [0 8 3 6]]]\n",
      "\n",
      "\n",
      " [[[9 5 7 1]\n",
      "   [1 7 0 4]\n",
      "   [3 7 9 8]]\n",
      "\n",
      "  [[6 5 3 5]\n",
      "   [5 0 0 1]\n",
      "   [5 8 0 3]]\n",
      "\n",
      "  [[9 8 7 9]\n",
      "   [6 0 9 2]\n",
      "   [5 5 8 6]]\n",
      "\n",
      "  [[6 8 9 2]\n",
      "   [1 6 4 3]\n",
      "   [0 1 1 4]]]]\n",
      "[[56 61 42 53]\n",
      " [57 58 29 58]\n",
      " [61 41 74 45]]\n"
     ]
    }
   ],
   "source": [
    "# -- 28 --\n",
    "    # 1. Создайте массив случайных чисел от 0 до 9 размером 3x4x3x4\n",
    "    # 2. Вычислите суммы элементов по двум последним осям \n",
    "\n",
    "array = np.random.choice(10, (3, 4, 3, 4))\n",
    "print(array)\n",
    "print(array.sum(axis=(2, 3)))"
   ]
  },
  {
   "cell_type": "code",
   "execution_count": 31,
   "id": "9a28cbb1-ceb5-4267-9c4c-8d560c682e57",
   "metadata": {},
   "outputs": [
    {
     "data": {
      "text/plain": [
       "array([  0., -10.,   1.,  -9.,   2.,  -8.,   3.,  -7.,   4.,  -6.,   5.,\n",
       "        -5.,   6.,  -4.,   7.,  -3.,   8.,  -2.,   9.,  -1.])"
      ]
     },
     "execution_count": 31,
     "metadata": {},
     "output_type": "execute_result"
    }
   ],
   "source": [
    "# -- 29 --\n",
    "    # 1. Любым способом создайте два массива одинаковой длины\n",
    "    # 2. Создайте массив, в котором на четных позициях будут стоять элементы\n",
    "    # с соответствующих позиций первого массива, \n",
    "    # а на нечетных - с соответствующих позиций второго\n",
    "\n",
    "x = np.arange(10)\n",
    "y = np.arange(-10, 0)\n",
    "array = np.zeros(len(x)*2)\n",
    "array[::2] = x\n",
    "array[1::2] = y\n",
    "array"
   ]
  },
  {
   "cell_type": "code",
   "execution_count": 32,
   "id": "0843fb70-a9b5-4f33-a958-50c6c0879a2a",
   "metadata": {},
   "outputs": [
    {
     "data": {
      "text/plain": [
       "0.375"
      ]
     },
     "execution_count": 32,
     "metadata": {},
     "output_type": "execute_result"
    }
   ],
   "source": [
    "# -- 30 --\n",
    "    # На примере массива x = np.array([[1., 2.], [np.nan, 3.], [5., 5.], [np.nan, np.nan]]) \n",
    "    # вычислите долю пропущенных значений \n",
    "    \n",
    "x = np.array([[1., 2.], [np.nan, 3.], [5., 5.], [np.nan, np.nan]])\n",
    "np.isnan(x).sum() / x.size"
   ]
  },
  {
   "cell_type": "code",
   "execution_count": 33,
   "id": "4723632a-187f-4249-81a7-cf73d94db038",
   "metadata": {},
   "outputs": [
    {
     "data": {
      "text/plain": [
       "array([1., 2., 3., 5.])"
      ]
     },
     "execution_count": 33,
     "metadata": {},
     "output_type": "execute_result"
    }
   ],
   "source": [
    "# -- 31 --\n",
    "    # На примере массива x = np.array([[1., 2.], [np.nan, 3.], [5., 5.], [np.nan, np.nan]])\n",
    "    # составьте массив из уникальных значений массива без учета nan\n",
    "\n",
    "x = np.array([[1., 2.], [np.nan, 3.], [5., 5.], [np.nan, np.nan]])\n",
    "np.unique(x[~np.isnan(x)])"
   ]
  },
  {
   "cell_type": "code",
   "execution_count": 34,
   "id": "51328ca1-a4b6-445d-aad7-7bb931191b35",
   "metadata": {},
   "outputs": [
    {
     "data": {
      "text/plain": [
       "5"
      ]
     },
     "execution_count": 34,
     "metadata": {},
     "output_type": "execute_result"
    }
   ],
   "source": [
    "# -- 32 --\n",
    "    # На примере массива x = np.array([6, 2, 0, 3, 0, 0, 5, 7, 0]) \n",
    "    # найдите максимальный элемент в массиве среди элементов, \n",
    "    # перед которыми стоит нулевой \n",
    "\n",
    "x = np.array([6, 2, 0, 3, 0, 0, 5, 7, 0]) \n",
    "next_zero_mask = np.clip(np.where(x == 0)[0] + 1, a_min=None, a_max=len(x) - 1)\n",
    "x[next_zero_mask].max()"
   ]
  },
  {
   "cell_type": "code",
   "execution_count": 35,
   "id": "10bf3c1c-1534-4542-9f0e-04224c0cd6f1",
   "metadata": {},
   "outputs": [
    {
     "data": {
      "text/plain": [
       "array([0.        , 0.        , 0.        , 0.33333333, 4.        ,\n",
       "       0.5       , 0.33333333])"
      ]
     },
     "execution_count": 35,
     "metadata": {},
     "output_type": "execute_result"
    }
   ],
   "source": [
    "# -- 33 --\n",
    "    # Пусть заданы два массива одинакового размера. \n",
    "    # Поэлементно разделите один массив на другой.\n",
    "    # В случае, если делитель равен нулю, соответствующему элементу\n",
    "    # результирующего массива присвойте нуль. \n",
    "\n",
    "nominator = np.random.choice(5, 7)\n",
    "denominator = np.random.choice(5, 7)\n",
    "denominator[:3] = 0\n",
    "nominator / np.where(denominator != 0, denominator, np.inf)"
   ]
  },
  {
   "cell_type": "code",
   "execution_count": 36,
   "id": "057e624d-beef-4929-8b0c-dc0ef2871403",
   "metadata": {},
   "outputs": [
    {
     "data": {
      "text/plain": [
       "array([2., 2., 2., 2., 1., 4., 1., 1., 2., 1.])"
      ]
     },
     "execution_count": 36,
     "metadata": {},
     "output_type": "execute_result"
    }
   ],
   "source": [
    "# -- 34 --\n",
    "    # Пусть заданы два массива x = np.ones(10) и i = np.array([0, 1, 2, 3, 5, 5, 5, 8]).\n",
    "    # Прибавьте единицу к тем элементам массива x, индексы которых указаны в массиве i. \n",
    "    # В случае, если некоторый индекс встретился в массиве i несколько раз, \n",
    "    # прибавьте к соответствующему элементу массива x число вхождений данного индекса в массив i.\n",
    "\n",
    "x = np.ones(10) \n",
    "i = np.array([0, 1, 2, 3, 5, 5, 5, 8])\n",
    "unique, counts =  np.unique(i, return_counts=True)\n",
    "x[unique] += counts\n",
    "x"
   ]
  },
  {
   "cell_type": "code",
   "execution_count": 37,
   "id": "42f76205-27db-4ca5-848f-b012082aefa4",
   "metadata": {},
   "outputs": [
    {
     "name": "stdout",
     "output_type": "stream",
     "text": [
      "[2 0 0 1 0 0 0 0 1 0 2 1]\n"
     ]
    },
    {
     "data": {
      "text/plain": [
       "array([ 0,  0,  3,  8, 10, 10, 11])"
      ]
     },
     "execution_count": 37,
     "metadata": {},
     "output_type": "execute_result"
    }
   ],
   "source": [
    "# -- 35 --\n",
    "    # По заданному массиву y = np.bincount([0, 0, 3, 8, 10, 10, 11]) \n",
    "    # постройте массив x такой, чтобы np.bincount(x) = y \n",
    "\n",
    "y = np.bincount([0, 0, 3, 8, 10, 10, 11])\n",
    "print(y)\n",
    "np.repeat(np.nonzero(y), y[y > 0])"
   ]
  },
  {
   "cell_type": "code",
   "execution_count": 38,
   "id": "04b1eb64-6804-45a9-8da1-18e0f43552ed",
   "metadata": {},
   "outputs": [
    {
     "data": {
      "text/plain": [
       "array([0, 4, 6])"
      ]
     },
     "execution_count": 38,
     "metadata": {},
     "output_type": "execute_result"
    }
   ],
   "source": [
    "# -- 36 --\n",
    "    # Определите самые часто встречающиеся элементы в массиве целых неотрицательных чисел.\n",
    "    # Решите задачу на примере массива x = np.array([0,1,2,0,6,6,7,4,5,4])\n",
    "    \n",
    "x = np.array([0,1,2,0,6,6,7,4,5,4])\n",
    "bins = np.bincount(x)\n",
    "np.where(bins==bins.max())[0]"
   ]
  },
  {
   "cell_type": "code",
   "execution_count": 39,
   "id": "fbfe10ba-5ff8-4a3a-8e0e-1b34beb2ea59",
   "metadata": {},
   "outputs": [
    {
     "data": {
      "text/plain": [
       "[array([[1, 2],\n",
       "        [1, 3]]),\n",
       " array([[2, 2]]),\n",
       " array([[3, 4],\n",
       "        [3, 5]]),\n",
       " array([[5, 6],\n",
       "        [5, 5]]),\n",
       " array([[7, 8]])]"
      ]
     },
     "execution_count": 39,
     "metadata": {},
     "output_type": "execute_result"
    }
   ],
   "source": [
    "# -- 37 --\n",
    "    # Разбейте двумерный массив на список двумерных массивов \n",
    "    # по уникальным значениям в первом столбце.\n",
    "    # Решите задачу на примере массива x = np.array([[1, 2], [1, 3], [2, 2], [3, 4], [3, 5]]),\n",
    "    # в результате должен получиться список\n",
    "    # [array([[1, 2], [1, 3]]), array([[2, 2]]), array([[3, 4], [3, 5]])]. \n",
    "    \n",
    "x = np.array([[1, 2], [1, 3],[5, 6], [7, 8], [5, 5], [2, 2], [3, 4], [3, 5]])\n",
    "first_column = x[:, 0]\n",
    "_, counts = np.unique(first_column, return_counts=True)\n",
    "indexes = np.cumsum(counts)[:-1]\n",
    "result = np.split(x[np.argsort(first_column)], indexes)\n",
    "result"
   ]
  },
  {
   "cell_type": "code",
   "execution_count": 40,
   "id": "2a66015f-21fa-4a91-8e74-313363d3ed6c",
   "metadata": {},
   "outputs": [
    {
     "data": {
      "text/plain": [
       "[array([0, 2, 2, 8]), array([10, 11, 13, 18]), array([20, 24]), array([34])]"
      ]
     },
     "execution_count": 40,
     "metadata": {},
     "output_type": "execute_result"
    }
   ],
   "source": [
    "# -- 38 --\n",
    "    # По заданному одномерному массиву неотрицательных чисел постройте список подмассивов,\n",
    "    # сожержащих элементы из полуинтервалов [i * 10, (i+1) * 10), i = 0, 1, 2, …\n",
    "    # Решите задачу на примере массива x = np.array([8, 2, 34, 0, 11, 18, 13, 2, 24, 10, 20]),\n",
    "    # в результате должен получиться список [array([0, 2, 2, 8]), array([10, 11, 13, 18]), array([20, 24]), array([34])].\n",
    "\n",
    "x = np.array([8, 2, 34, 0, 11, 18, 13, 2, 24, 10, 20])\n",
    "sorted_x = np.sort(x)\n",
    "blocks = np.arange(10, max(x), 10).reshape(-1, 1)\n",
    "indexes = np.sum((sorted_x < blocks), axis=1)\n",
    "np.split(sorted_x, indexes)"
   ]
  },
  {
   "cell_type": "code",
   "execution_count": 41,
   "id": "73c6ea17-1d5e-441e-ab86-605c61f3ef09",
   "metadata": {},
   "outputs": [],
   "source": [
    "# -- 39 --\n",
    "# Перечислите все известные вам способы соединения заданных двумерных массивов по вертикали. Какой из способов работает быстрее?"
   ]
  }
 ],
 "metadata": {
  "kernelspec": {
   "display_name": "Python 3 (ipykernel)",
   "language": "python",
   "name": "python3"
  },
  "language_info": {
   "codemirror_mode": {
    "name": "ipython",
    "version": 3
   },
   "file_extension": ".py",
   "mimetype": "text/x-python",
   "name": "python",
   "nbconvert_exporter": "python",
   "pygments_lexer": "ipython3",
   "version": "3.8.10"
  }
 },
 "nbformat": 4,
 "nbformat_minor": 5
}
