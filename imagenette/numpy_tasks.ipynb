{
 "cells": [
  {
   "cell_type": "code",
   "execution_count": 420,
   "id": "f3960ce8-b623-4066-a451-1003aed5368e",
   "metadata": {},
   "outputs": [],
   "source": [
    "import numpy as np"
   ]
  },
  {
   "cell_type": "code",
   "execution_count": 2,
   "id": "5346aa53-603b-44cd-8aba-5d83d890947e",
   "metadata": {},
   "outputs": [],
   "source": [
    "# -- 1 --\n",
    "    # 1. Создайте массив длины 10, заполненный нулями\n",
    "    # 2. Сделайте полученный массив неизменяемым\n",
    "\n",
    "zeros = np.zeros(10)\n",
    "zeros.setflags(write=False)"
   ]
  },
  {
   "cell_type": "code",
   "execution_count": 3,
   "id": "6bfd2d77-6676-4342-988e-ea022c615ad6",
   "metadata": {},
   "outputs": [],
   "source": [
    "# -- 2 --\n",
    "    # 1. Создайте массив, содержащий 5 равноотстоящих точек, покрывающих диапазон от 0 до 2*pi\n",
    "    # 2. Создайте массив, содержащий 5 равноотстоящих в логарифмическом масштабе точек, покрывающих диапазон от 10 до 100\n",
    "    # 3. Составьте из полученных массивов координатную сеть (meshgrid)\n",
    "\n",
    "range_2pi = np.linspace(0, 2 * np.pi, 5)\n",
    "range_log = np.logspace(10, 100, 5)\n",
    "xv, yv = np.meshgrid(range_2pi, range_log, indexing='ij')"
   ]
  },
  {
   "cell_type": "code",
   "execution_count": 4,
   "id": "4721a922-a612-4a79-8592-2e0a19166000",
   "metadata": {},
   "outputs": [],
   "source": [
    "# -- 3 --\n",
    "    # Создайте двумерный массив 5х5 с элементами 1, 2, 3 и 4 под главной диагональю, остальные элементы заполните нулями\n",
    "\n",
    "eye = np.diag(range(1, 5), k=-1)"
   ]
  },
  {
   "cell_type": "code",
   "execution_count": 106,
   "id": "0dd8dc9c-1e96-4433-95df-012227f4542c",
   "metadata": {},
   "outputs": [],
   "source": [
    "# -- 4 --\n",
    "    # 1. Создайте функцию-генератор, последовательно возвращающую целые числа от 0 до 9\n",
    "    # 2. Создайте массив из построенного генератора\n",
    "    \n",
    "def my_iter():\n",
    "    for i in range(9):\n",
    "        yield i\n",
    "    return\n",
    "\n",
    "iter_arr = np.fromiter(my_iter(), dtype=int, count=9)"
   ]
  },
  {
   "cell_type": "code",
   "execution_count": 6,
   "id": "382f8896-2763-4013-a74e-18785301b4bf",
   "metadata": {},
   "outputs": [],
   "source": [
    "# -- 5 --\n",
    "    # Что будет выведено на экран?\n",
    "    # a = np.arange(4).reshape(2,2)  # dtype = int\n",
    "    # a += 0.5                       # error : нельзя сменить dtype(a) на float (+= inplace)\n",
    "    # print(a)                       "
   ]
  },
  {
   "cell_type": "code",
   "execution_count": 7,
   "id": "2aedece1-22cd-416e-83d5-179aaa09adac",
   "metadata": {},
   "outputs": [],
   "source": [
    "# -- 6 --\n",
    "    # Что будет выведено на экран?\n",
    "#     a = np.array([1])\n",
    "#     if a:                          # ([1] == [True]) => [True]\n",
    "#         print(\"True\")\n",
    "#     else:\n",
    "#         print(\"False\")\n",
    "\n",
    "#     a = np.array([1, 2, 3])        # ([1, 2, 3] == [True, True, True]) =>  [True, False, False]\n",
    "#     if a:                          # \"if [True, False, False]\" => error\n",
    "#         print(\"True\")\n",
    "#     else:\n",
    "#         print(\"False\")"
   ]
  },
  {
   "cell_type": "code",
   "execution_count": 8,
   "id": "a2bd5a72-e0f1-4678-918f-68453f2a0314",
   "metadata": {},
   "outputs": [],
   "source": [
    "# -- 7 --\n",
    "    # Что будет выведено на экран?   \n",
    "    # print(0 * np.nan)                  # nan * number = nan\n",
    "    # print(np.nan - np.nan)             # arithmetic_operation(nan, ...) = nan\n",
    "    # print(np.nan == np.nan)            # False, т.к., например, не хотелось бы: nan - nan = 0, nan / nan = 1\n",
    "    # print(np.nan is np.nan)            # True\n",
    "    # print(-np.inf < np.nan < np.inf)   # х <> nan всегда False, т.к. nan не число"
   ]
  },
  {
   "cell_type": "code",
   "execution_count": 9,
   "id": "43b491d4-7804-467c-816d-316c9b0c8458",
   "metadata": {},
   "outputs": [],
   "source": [
    "# -- 8 --\n",
    "    # Что будет выведено на экран? \n",
    "    # print(np.isnan(np.array([np.nan]).astype(np.int)))    #False, т.к nan только для float dtype, a dtype=int заменит nan на число"
   ]
  },
  {
   "cell_type": "code",
   "execution_count": 10,
   "id": "2b7f0d0e-555b-440e-ac9a-63b80de85162",
   "metadata": {},
   "outputs": [
    {
     "data": {
      "text/plain": [
       "array([9223372036854775808], dtype=uint64)"
      ]
     },
     "execution_count": 10,
     "metadata": {},
     "output_type": "execute_result"
    }
   ],
   "source": [
    "np.array([np.NINF]).astype(np.uint64) # ???"
   ]
  },
  {
   "cell_type": "code",
   "execution_count": 161,
   "id": "83d273cc-16da-4543-93b3-757ec2d624de",
   "metadata": {},
   "outputs": [
    {
     "data": {
      "text/plain": [
       "array([[ 0,  1,  2,  3,  4],\n",
       "       [10, 11, 12, 13, 14],\n",
       "       [20, 21, 22, 23, 24],\n",
       "       [30, 31, 32, 33, 34]])"
      ]
     },
     "execution_count": 161,
     "metadata": {},
     "output_type": "execute_result"
    }
   ],
   "source": [
    "# -- 9 --\n",
    "    # 1. Создайте масив из четырех элементов: 0, 10, 20, 30\n",
    "    # 2. Создайте двухмерный массив 4x5, в котором первый столбец - массив с шага 1, а каждый элемент каждой строки, начиная со второго, \n",
    "    # больше предыдущего элемента этой же строки на 1.\n",
    "    \n",
    "array = np.arange(0, 40, 10)\n",
    "array.reshape((4,1)) + np.arange(5)"
   ]
  },
  {
   "cell_type": "code",
   "execution_count": 12,
   "id": "be1d136c-aad0-421e-b137-c2704e697954",
   "metadata": {},
   "outputs": [],
   "source": [
    "# -- 10 --\n",
    "    # Какой shape будет у результата операции np.arange(5).reshape(1,-1) + np.arange(5).reshape(-1,1)?\n",
    "    \n",
    "    # np.arange(5).reshape(1,-1) => строка (1, 5),\n",
    "    # np.arange(5).reshape(-1,1) => столбец (5, 1),\n",
    "    # + =>(broadcasting) (5, 5) "
   ]
  },
  {
   "cell_type": "code",
   "execution_count": 169,
   "id": "b04b6138-92bb-4870-952e-6f9a0d930d95",
   "metadata": {},
   "outputs": [
    {
     "data": {
      "text/plain": [
       "array([[0., 0., 0., 0., 0., 0., 0., 0.],\n",
       "       [1., 0., 1., 0., 1., 0., 1., 0.],\n",
       "       [0., 0., 0., 0., 0., 0., 0., 0.],\n",
       "       [1., 0., 1., 0., 1., 0., 1., 0.],\n",
       "       [1., 0., 1., 0., 1., 0., 1., 0.],\n",
       "       [0., 0., 0., 0., 0., 0., 0., 0.],\n",
       "       [0., 0., 0., 0., 0., 0., 0., 0.],\n",
       "       [1., 0., 1., 0., 1., 0., 1., 0.]])"
      ]
     },
     "execution_count": 169,
     "metadata": {},
     "output_type": "execute_result"
    }
   ],
   "source": [
    "# -- 11 --\n",
    "    # Создайте двумерный массив 8х8, заполненный 0 и 1 в шахматном порядке\n",
    "    \n",
    "chess_array = np.zeros((8,8))\n",
    "mask = np.array([1, 3, 4, 7])\n",
    "chess_array[mask,::2] = 1           # ::2, ::2\n",
    "# chess_array[mask + 1, 1::2] += 1\n",
    "chess_array"
   ]
  },
  {
   "cell_type": "code",
   "execution_count": 14,
   "id": "faf96e43-1d75-421e-bfc4-be11d236f7ae",
   "metadata": {},
   "outputs": [
    {
     "data": {
      "text/plain": [
       "array([1., 0., 2., 0., 3., 0., 4.])"
      ]
     },
     "execution_count": 14,
     "metadata": {},
     "output_type": "execute_result"
    }
   ],
   "source": [
    "# -- 12 --\n",
    "    # 1. Создайте одномерный массив целых чисел от 1 до 5\n",
    "    # 2. Вставьте 0 между каждой парой соседних элементов\n",
    "array = np.arange(1, 5)\n",
    "result = np.zeros(7)\n",
    "result[::2] = array\n",
    "result"
   ]
  },
  {
   "cell_type": "code",
   "execution_count": 15,
   "id": "83146aa7-581c-414c-96db-7567efbc012d",
   "metadata": {},
   "outputs": [],
   "source": [
    "# -- 13 --\n",
    "    # Что будет выведено на экран?\n",
    "    # x = np.arange(36).reshape(2,3,2,3)\n",
    "    # print(x[...,0,...])                 # error, \"...\" можно только 1 раз\n",
    "                                          # (иначе неясно, до какого индекса \":\")"
   ]
  },
  {
   "cell_type": "code",
   "execution_count": 176,
   "id": "b0922fcb-4c08-494a-8bc7-087968b7172b",
   "metadata": {},
   "outputs": [],
   "source": [
    "class Array:\n",
    "    def __getitem__(self, x):\n",
    "        print(type(x), x)"
   ]
  },
  {
   "cell_type": "code",
   "execution_count": 177,
   "id": "79392ba6-6acb-404c-9b69-4a5bb31bdd17",
   "metadata": {},
   "outputs": [
    {
     "name": "stdout",
     "output_type": "stream",
     "text": [
      "<class 'slice'> slice(None, None, 2)\n"
     ]
    }
   ],
   "source": [
    "a = Array()\n",
    "a[::2]"
   ]
  },
  {
   "cell_type": "code",
   "execution_count": null,
   "id": "aa35629d-ad63-458f-a6b1-80eb9d4bade7",
   "metadata": {},
   "outputs": [],
   "source": [
    "up_left = [10, 20]\n",
    "bot_right = [100, 200]\n",
    "\n",
    "sl_args in zip(up_left, bot_right)"
   ]
  },
  {
   "cell_type": "code",
   "execution_count": null,
   "id": "20a4e4f0-8670-42dc-aa39-4b4ef2efd66a",
   "metadata": {},
   "outputs": [],
   "source": [
    "slice_ = slice(None) # !!"
   ]
  },
  {
   "cell_type": "code",
   "execution_count": 178,
   "id": "dd3659a7-5481-402e-9bbf-8b43097b1f2f",
   "metadata": {},
   "outputs": [
    {
     "name": "stdout",
     "output_type": "stream",
     "text": [
      "[[ 0  1  2  3]\n",
      " [ 4  5  6  7]\n",
      " [ 8  9 10 11]\n",
      " [12 13 14 15]]\n",
      "[[ 0  1  2  3]\n",
      " [ 4  5  6  7]\n",
      " [ 8  9 10 11]\n",
      " [12 13 14 15]]\n"
     ]
    }
   ],
   "source": [
    "# -- 14 --\n",
    "    # Что будет выведено на экран?\n",
    "x = np.arange(16).reshape(4,4)\n",
    "y = x[:,[2,3]]                 # y копирует 2,3 столбец х (advanced indexing)\n",
    "y[:] = 0                       # 2, 3 столбец y в 0\n",
    "print(x)                       # x без изменений\n",
    "y = x[:,:2]                    # y ссылается на 0, 1 столбец x \n",
    "y = 0                       # 0, 1 столбец x в 0\n",
    "print(x)                       "
   ]
  },
  {
   "cell_type": "code",
   "execution_count": null,
   "id": "6a74ee83-b67c-491a-8ff4-373667016988",
   "metadata": {},
   "outputs": [],
   "source": [
    "# -- 15 --\n",
    "    # Замените отрицательные элементы массива нулем.\n",
    "array = np.arange(-5, 5)\n",
    "array[(array > -1) | (array < 2)] = 0\n",
    "array"
   ]
  },
  {
   "cell_type": "code",
   "execution_count": 190,
   "id": "d348ac9d-02e4-4297-852f-fd4365531ec9",
   "metadata": {},
   "outputs": [
    {
     "data": {
      "text/plain": [
       "False"
      ]
     },
     "execution_count": 190,
     "metadata": {},
     "output_type": "execute_result"
    }
   ],
   "source": [
    "True is True == False # !!!!!!!!"
   ]
  },
  {
   "cell_type": "code",
   "execution_count": null,
   "id": "b3b1a568-2eb9-42f4-bc11-e1764acbfd16",
   "metadata": {},
   "outputs": [],
   "source": [
    "array > -1 or array < 2\n",
    "(array < 2) or (array > -1)"
   ]
  },
  {
   "cell_type": "code",
   "execution_count": null,
   "id": "975f4891-1111-40e1-a734-2e1d860d5f51",
   "metadata": {},
   "outputs": [],
   "source": [
    "array > -1 | array < 2\n",
    "x = -1 | array\n",
    "(array > x) and (x < 2)"
   ]
  },
  {
   "cell_type": "code",
   "execution_count": 18,
   "id": "3268b2d2-c3f2-4060-a28a-ddd6af58d312",
   "metadata": {},
   "outputs": [
    {
     "data": {
      "text/plain": [
       "array([[1, 2, 3],\n",
       "       [2, 2, 1]])"
      ]
     },
     "execution_count": 18,
     "metadata": {},
     "output_type": "execute_result"
    }
   ],
   "source": [
    "# -- 16 --\n",
    "    # На примере целочисленного массива\n",
    "    # x = np.array([[1,2,3], [1,1,1], [2,2,1], [2,2,2]], dtype=int) \n",
    "    # составьте новый массив, не содержащий строки,\n",
    "    # полностью заполненные одним уникальным значением.\n",
    "    \n",
    "x = np.array([[1,2,3], [1,1,1], [2,2,1], [2,2,2]], dtype=int) \n",
    "first_elements = x[:, 0].reshape(4, 1)\n",
    "x[np.any(x - first_elements, axis=1)]"
   ]
  },
  {
   "cell_type": "code",
   "execution_count": 240,
   "id": "a55ac568-5087-4b49-83ef-e8fbf49c9b3e",
   "metadata": {},
   "outputs": [
    {
     "name": "stdout",
     "output_type": "stream",
     "text": [
      "[8 2 2 5 4 8 7 9 5 9]\n"
     ]
    },
    {
     "data": {
      "text/plain": [
       "array([2, 2, 4, 7, 5])"
      ]
     },
     "execution_count": 240,
     "metadata": {},
     "output_type": "execute_result"
    }
   ],
   "source": [
    "# -- 17 --\n",
    "    # Для заданного одномерного массива x выведите все элементы,\n",
    "    # не превышающие своих соседей\n",
    "    # (первый и последний элемент сравниваются только со вторым и предпоследним соответственно).\n",
    "\n",
    "x = np.random.choice(10, 10)\n",
    "print(x)\n",
    "mask = np.ones_like(x, dtype=bool)  # empty\n",
    "mask[:-1] = x[:-1] <= x[1::]\n",
    "mask[1:] &= x[:-1] >= x[1::]\n",
    "x[mask]"
   ]
  },
  {
   "cell_type": "code",
   "execution_count": 210,
   "id": "876744b2-6176-4467-83cc-6d91eacb781f",
   "metadata": {},
   "outputs": [
    {
     "name": "stdout",
     "output_type": "stream",
     "text": [
      "[[7 4 8]\n",
      " [0 8 8]\n",
      " [3 2 9]]\n"
     ]
    },
    {
     "data": {
      "text/plain": [
       "array([[3, 2, 9],\n",
       "       [7, 4, 8],\n",
       "       [0, 8, 8]])"
      ]
     },
     "execution_count": 210,
     "metadata": {},
     "output_type": "execute_result"
    }
   ],
   "source": [
    "# -- 18 --\n",
    "    # 1. Создайте двумерный массив 3x3, заполненный случайными числами от 0 до 9\n",
    "    # 2. Отсортируйте строки массива по возрастанию значения во втором столбце\n",
    "    \n",
    "array = np.random.choice(10, (3, 3))\n",
    "print(array)\n",
    "array[np.argsort(array[:, 1])] # np lexsort"
   ]
  },
  {
   "cell_type": "code",
   "execution_count": 202,
   "id": "caeeabb7-9216-42ee-98c0-de2b124dd3d5",
   "metadata": {},
   "outputs": [
    {
     "data": {
      "text/plain": [
       "array([[ 5,  6,  7,  8,  9],\n",
       "       [ 0,  1,  2,  3,  4],\n",
       "       [10, 11, 12, 13, 14],\n",
       "       [15, 16, 17, 18, 19]])"
      ]
     },
     "execution_count": 202,
     "metadata": {},
     "output_type": "execute_result"
    }
   ],
   "source": [
    "# -- 19 --\n",
    "    # Поменяйте местами первую и вторую строки двумерного массива\n",
    "    \n",
    "array = np.arange(20).reshape(4, 5)\n",
    "array[[1,0, *range(2, len(array))]]"
   ]
  },
  {
   "cell_type": "code",
   "execution_count": 22,
   "id": "d65fd8a9-82b1-4e3f-85d9-5b982aa34a93",
   "metadata": {},
   "outputs": [
    {
     "name": "stdout",
     "output_type": "stream",
     "text": [
      "[[ 0  1  2  3  4]\n",
      " [ 5  6  7  8  9]\n",
      " [10 11 12 13 14]]\n",
      "[[ 1  3]\n",
      " [11 13]]\n"
     ]
    }
   ],
   "source": [
    "# -- 20 --\n",
    "    # 1. Создайте массив 3x5, заполненный числами от 0 до 14\n",
    "    # 2. Выберите 1, 3 строки и 2, 4 столбцы, не удаляя элементы из массива \n",
    "\n",
    "x = np.arange(15).reshape(3,5)\n",
    "print(x)\n",
    "y = x[np.ix_([0, 2], [1, 3])]       # ~ [[[0, 0], [2, 2]], [[1, 3], [1, 3]]]\n",
    "print(y)"
   ]
  },
  {
   "cell_type": "code",
   "execution_count": 213,
   "id": "3640b2ac-0dff-4245-b7e4-aae14399ab58",
   "metadata": {},
   "outputs": [
    {
     "name": "stdout",
     "output_type": "stream",
     "text": [
      "[1 2 2 3 4]\n",
      "[1 3 3 3 4]\n"
     ]
    }
   ],
   "source": [
    "# -- 21 --\n",
    "    # Что будет выведено на экран?\n",
    "    \n",
    "x = np.arange(5)       # x = [0, 1, 2, 3, 4]\n",
    "x[[0,0,1]] = range(3)  # x[0] = 0, x[0] = 1, x[1] = 2\n",
    "print(x)\n",
    "x[[1,2,1]] += 1        # x[1] = 3, x[2] = 3, x[1] != 4,     y.__iadd__(1)\n",
    "print(x)               # (x[[...]] - копия, shape: (3,))    np.add.at(x, [1, 2, 1], 1)"
   ]
  },
  {
   "cell_type": "code",
   "execution_count": 24,
   "id": "a6000546-34e8-4b97-a54f-19bdb793f578",
   "metadata": {},
   "outputs": [
    {
     "data": {
      "text/plain": [
       "((64,), (64,), (64,))"
      ]
     },
     "execution_count": 24,
     "metadata": {},
     "output_type": "execute_result"
    }
   ],
   "source": [
    "# -- 22 --\n",
    "    # Перечислите все известные вам способы преобразования заданного n-мерного массива в одномерный.\n",
    "    # Какой из способов работает быстрее и почему?\n",
    "\n",
    "array = np.arange(64).reshape((4, 4, 2, 2))\n",
    "ravelled_array = array.ravel()               # view почти всегда, гарантия contigious; быстрее reshape\n",
    "reshaped_array = array.reshape(-1)           # view, когда позволяют страйды, нет гарантии contigious\n",
    "flattened_array = array.flatten()            # возвращает копию => медленно\n",
    "# x.shape = (...) упадет если mismatch\n",
    "ravelled_array.shape, reshaped_array.shape, flattened_array.shape"
   ]
  },
  {
   "cell_type": "code",
   "execution_count": 25,
   "id": "57359327-5bac-41d8-9c4a-2f12ce11ec07",
   "metadata": {},
   "outputs": [
    {
     "name": "stdout",
     "output_type": "stream",
     "text": [
      "[1 3 3 3 2 5 5 5 3 0]\n"
     ]
    },
    {
     "data": {
      "text/plain": [
       "array([1, 3, 3, 3, 2, 3, 3, 3, 3, 0])"
      ]
     },
     "execution_count": 25,
     "metadata": {},
     "output_type": "execute_result"
    }
   ],
   "source": [
    "# -- 23 --\n",
    "    # 1. Создайте массив, заполненный случайными значениями\n",
    "    # 2. Замените максимальные значения массива средним \n",
    "\n",
    "array = np.random.choice(6, 10)\n",
    "print(array)\n",
    "array[array == array.max()] = array.mean() # argmax, numba, np.place, np.put <- %%timeit\n",
    "array"
   ]
  },
  {
   "cell_type": "code",
   "execution_count": 26,
   "id": "9fd83282-949f-4038-b175-8f58fa8dfa2d",
   "metadata": {},
   "outputs": [
    {
     "name": "stdout",
     "output_type": "stream",
     "text": [
      "[[3 4 2]\n",
      " [3 6 8]\n",
      " [6 4 7]]\n"
     ]
    },
    {
     "data": {
      "text/plain": [
       "array([3.  , 4.25, 8.5 ])"
      ]
     },
     "execution_count": 26,
     "metadata": {},
     "output_type": "execute_result"
    }
   ],
   "source": [
    "# -- 24 --\n",
    "    # 1. Создайте двумерный массив 6x6, заполненный случайными значениями\n",
    "    # 2. Сумму по каждой строке поделите на минимальный элемент из столбца с тем же индексом\n",
    "    \n",
    "array = np.random.choice(range(1,10), (3, 3))\n",
    "print(array)\n",
    "array.sum(axis=1) / array.min(axis=0)\n"
   ]
  },
  {
   "cell_type": "code",
   "execution_count": 27,
   "id": "bada8f41-a374-4da0-b856-b4aff439ff5e",
   "metadata": {},
   "outputs": [
    {
     "name": "stdout",
     "output_type": "stream",
     "text": [
      "[ 1  4 10  2  3 16 12  5 17 15]\n"
     ]
    },
    {
     "data": {
      "text/plain": [
       "array([0.    , 0.1875, 0.5625, 0.0625, 0.125 , 0.9375, 0.6875, 0.25  ,\n",
       "       1.    , 0.875 ])"
      ]
     },
     "execution_count": 27,
     "metadata": {},
     "output_type": "execute_result"
    }
   ],
   "source": [
    "# -- 25 --\n",
    "    # 1. Создайте одномерный массив длины 10, заполненный случайными значениями\n",
    "    # 2. Линейно отобразите элементы массива в отрезок [0, 1], при этом минимальный элемент должен отобразиться в 0, а максимальный - в 1\n",
    "    \n",
    "array = np.random.choice(range(1, 20), 10)\n",
    "print(array)\n",
    "(array - array.min()) / (array.max()  - array.min()) # проходов по массиву много, np.ptp(тоже 2 прохода)"
   ]
  },
  {
   "cell_type": "code",
   "execution_count": 28,
   "id": "ea972d1a-2a7f-4400-8968-9447f030285e",
   "metadata": {},
   "outputs": [
    {
     "name": "stdout",
     "output_type": "stream",
     "text": [
      "[[nan nan nan nan nan]\n",
      " [ 5.  6.  7.  8.  9.]\n",
      " [10. 11. 12. 13. 14.]\n",
      " [nan nan nan nan nan]]\n"
     ]
    },
    {
     "data": {
      "text/plain": [
       "array([[ 7.5,  8.5,  9.5, 10.5, 11.5],\n",
       "       [ 5. ,  6. ,  7. ,  8. ,  9. ],\n",
       "       [10. , 11. , 12. , 13. , 14. ],\n",
       "       [ 7.5,  8.5,  9.5, 10.5, 11.5]])"
      ]
     },
     "execution_count": 28,
     "metadata": {},
     "output_type": "execute_result"
    }
   ],
   "source": [
    "# -- 26 --\n",
    "    # Замените все вхождения nan в двумерный массив средним значением по соответствующему столбцу\n",
    "    \n",
    "array = np.arange(20, dtype=float).reshape(4, 5)\n",
    "array[::3] = np.nan\n",
    "print(array)\n",
    "np.nan_to_num(array, nan=np.nanmean(array, axis=0))   # np.nonzero(np.isnan(x)) ~ where(...)[0]"
   ]
  },
  {
   "cell_type": "code",
   "execution_count": 10,
   "id": "9c6a5e8e-9ac1-47d7-80d2-1ec6403439a8",
   "metadata": {},
   "outputs": [
    {
     "name": "stdout",
     "output_type": "stream",
     "text": [
      "[[ 0  0  2  3  4  0]\n",
      " [ 6  0  8  9 10  0]\n",
      " [12  0 14 15 16  0]\n",
      " [18  0 20 21 22  0]\n",
      " [24  0 26 27 28  0]\n",
      " [30  0 32 33 34  0]]\n"
     ]
    },
    {
     "data": {
      "text/plain": [
       "array([False,  True, False, False, False,  True])"
      ]
     },
     "execution_count": 10,
     "metadata": {},
     "output_type": "execute_result"
    }
   ],
   "source": [
    "# -- 27 --\n",
    "    # Проверьте, есть ли в двумерном массиве столбец, полностью заполненый нулями. \n",
    "\n",
    "array = np.arange(36).reshape(6, 6)\n",
    "array[:, 1::4] = np.zeros((6, 2))\n",
    "print(array)\n",
    "~np.any(array, axis=0) "
   ]
  },
  {
   "cell_type": "code",
   "execution_count": 199,
   "id": "58b026d0-bc6c-46c5-afeb-fd233017d492",
   "metadata": {},
   "outputs": [],
   "source": [
    "array = np.empty((300, 300))\n",
    "array[:, 1::4] = np.zeros((300, 1))\n",
    "array = array.astype(bool)"
   ]
  },
  {
   "cell_type": "code",
   "execution_count": 200,
   "id": "0f7a21df-3e24-4a2f-882f-4d508cef7902",
   "metadata": {},
   "outputs": [
    {
     "name": "stdout",
     "output_type": "stream",
     "text": [
      "13.2 µs ± 129 ns per loop (mean ± std. dev. of 7 runs, 100000 loops each)\n"
     ]
    }
   ],
   "source": [
    "%%timeit \n",
    "~np.any(array, axis=0)"
   ]
  },
  {
   "cell_type": "code",
   "execution_count": 203,
   "id": "1a66bf10-7750-4640-a119-8add9449b193",
   "metadata": {},
   "outputs": [
    {
     "name": "stdout",
     "output_type": "stream",
     "text": [
      "15.7 µs ± 195 ns per loop (mean ± std. dev. of 7 runs, 10000 loops each)\n"
     ]
    }
   ],
   "source": [
    "%%timeit\n",
    "np.all(~array, axis=0)"
   ]
  },
  {
   "cell_type": "code",
   "execution_count": 167,
   "id": "eaaf84e1-2af0-4711-a3f0-dfa100d9a593",
   "metadata": {},
   "outputs": [
    {
     "name": "stdout",
     "output_type": "stream",
     "text": [
      "[[[[1 1 2 0]\n",
      "   [7 0 1 1]\n",
      "   [5 4 1 0]]\n",
      "\n",
      "  [[4 5 8 6]\n",
      "   [2 4 0 9]\n",
      "   [5 7 5 8]]\n",
      "\n",
      "  [[6 7 7 9]\n",
      "   [0 7 3 8]\n",
      "   [8 0 4 3]]\n",
      "\n",
      "  [[2 0 5 3]\n",
      "   [5 7 9 2]\n",
      "   [6 6 1 9]]]\n",
      "\n",
      "\n",
      " [[[5 8 6 1]\n",
      "   [2 3 2 5]\n",
      "   [5 7 1 5]]\n",
      "\n",
      "  [[6 4 5 4]\n",
      "   [8 8 2 5]\n",
      "   [6 3 0 0]]\n",
      "\n",
      "  [[6 7 2 9]\n",
      "   [7 7 8 6]\n",
      "   [6 3 9 9]]\n",
      "\n",
      "  [[0 5 5 6]\n",
      "   [0 6 3 0]\n",
      "   [5 0 3 4]]]\n",
      "\n",
      "\n",
      " [[[8 0 3 1]\n",
      "   [6 5 2 6]\n",
      "   [1 4 4 2]]\n",
      "\n",
      "  [[2 3 5 2]\n",
      "   [4 6 2 0]\n",
      "   [8 7 0 2]]\n",
      "\n",
      "  [[0 9 7 1]\n",
      "   [1 5 2 4]\n",
      "   [6 0 1 0]]\n",
      "\n",
      "  [[1 1 2 0]\n",
      "   [5 7 2 5]\n",
      "   [1 8 5 9]]]]\n",
      "[[23 63 62 55]\n",
      " [50 51 79 37]\n",
      " [42 41 36 46]]\n"
     ]
    }
   ],
   "source": [
    "# -- 28 --\n",
    "    # 1. Создайте массив случайных чисел от 0 до 9 размером 3x4x3x4\n",
    "    # 2. Вычислите суммы элементов по двум последним осям \n",
    "\n",
    "array = np.random.choice(10, (3, 4, 3, 4))\n",
    "print(array)\n",
    "print(array.sum(axis=(2, 3)))    # https://en.wikipedia.org/wiki/Pairwise_summation "
   ]
  },
  {
   "cell_type": "code",
   "execution_count": 168,
   "id": "d43b629a-6b9a-4eb6-bef6-b2854dd4122b",
   "metadata": {},
   "outputs": [
    {
     "data": {
      "text/plain": [
       "array([[23, 63, 62, 55],\n",
       "       [50, 51, 79, 37],\n",
       "       [42, 41, 36, 46]])"
      ]
     },
     "execution_count": 168,
     "metadata": {},
     "output_type": "execute_result"
    }
   ],
   "source": [
    "np.add.reduce(array, axis=(2,3))"
   ]
  },
  {
   "cell_type": "code",
   "execution_count": 204,
   "id": "e900955b-6774-43a9-b3ad-cf11db968b69",
   "metadata": {},
   "outputs": [],
   "source": [
    "array = np.random.choice(100, (1000, 4, 5, 4))"
   ]
  },
  {
   "cell_type": "code",
   "execution_count": 205,
   "id": "2f9d90c1-da9c-43fc-9779-c81bba06dbe5",
   "metadata": {},
   "outputs": [
    {
     "name": "stdout",
     "output_type": "stream",
     "text": [
      "71.8 µs ± 1.03 µs per loop (mean ± std. dev. of 7 runs, 10000 loops each)\n"
     ]
    }
   ],
   "source": [
    "%%timeit \n",
    "np.add.reduce(array, axis=(2,3))"
   ]
  },
  {
   "cell_type": "code",
   "execution_count": 206,
   "id": "6f616add-3b7e-42b3-904c-9441e5be9d5e",
   "metadata": {},
   "outputs": [
    {
     "name": "stdout",
     "output_type": "stream",
     "text": [
      "72.3 µs ± 967 ns per loop (mean ± std. dev. of 7 runs, 10000 loops each)\n"
     ]
    }
   ],
   "source": [
    "%%timeit \n",
    "array.sum(axis=(2,3))"
   ]
  },
  {
   "cell_type": "code",
   "execution_count": 142,
   "id": "9a28cbb1-ceb5-4267-9c4c-8d560c682e57",
   "metadata": {},
   "outputs": [
    {
     "data": {
      "text/plain": [
       "array([  0, -10,   1,  -9,   2,  -8,   3,  -7,   4,  -6,   5,  -5,   6,\n",
       "        -4,   7,  -3,   8,  -2,   9,  -1])"
      ]
     },
     "execution_count": 142,
     "metadata": {},
     "output_type": "execute_result"
    }
   ],
   "source": [
    "# -- 29 --\n",
    "    # 1. Любым способом создайте два массива одинаковой длины\n",
    "    # 2. Создайте массив, в котором на четных позициях будут стоять элементы\n",
    "    # с соответствующих позиций первого массива, \n",
    "    # а на нечетных - с соответствующих позиций второго\n",
    "\n",
    "x = np.arange(10)\n",
    "y = np.arange(-10, 0)\n",
    "np.insert(y, slice(10), x) "
   ]
  },
  {
   "cell_type": "code",
   "execution_count": 210,
   "id": "71c036c5-aebb-4957-bfc9-39040521aefc",
   "metadata": {},
   "outputs": [],
   "source": [
    "x = np.arange(1000)\n",
    "y = np.arange(-1000, 0)\n",
    "ar = np.arange(1000)"
   ]
  },
  {
   "cell_type": "code",
   "execution_count": 211,
   "id": "42bf6a41-c4e5-445e-a889-838e2081d809",
   "metadata": {},
   "outputs": [
    {
     "name": "stdout",
     "output_type": "stream",
     "text": [
      "32.6 µs ± 398 ns per loop (mean ± std. dev. of 7 runs, 10000 loops each)\n"
     ]
    }
   ],
   "source": [
    "%%timeit \n",
    "np.insert(y, ar, x) "
   ]
  },
  {
   "cell_type": "code",
   "execution_count": 156,
   "id": "c68d5258-f817-4e1a-ab0b-fd3b99e5bdb5",
   "metadata": {},
   "outputs": [
    {
     "name": "stdout",
     "output_type": "stream",
     "text": [
      "2.24 µs ± 66.2 ns per loop (mean ± std. dev. of 7 runs, 100000 loops each)\n"
     ]
    }
   ],
   "source": [
    "%%timeit \n",
    "z = np.zeros(1000)\n",
    "z[::2] = x[::2]\n",
    "z[1::2] = y[1::2]"
   ]
  },
  {
   "cell_type": "code",
   "execution_count": 15,
   "id": "0843fb70-a9b5-4f33-a958-50c6c0879a2a",
   "metadata": {},
   "outputs": [
    {
     "data": {
      "text/plain": [
       "0.375"
      ]
     },
     "execution_count": 15,
     "metadata": {},
     "output_type": "execute_result"
    }
   ],
   "source": [
    "# -- 30 --\n",
    "    # На примере массива x = np.array([[1., 2.], [np.nan, 3.], [5., 5.], [np.nan, np.nan]]) \n",
    "    # вычислите долю пропущенных значений \n",
    "    \n",
    "x = np.array([[1., 2.], [np.nan, 3.], [5., 5.], [np.nan, np.nan]])\n",
    "np.isnan(x).sum() / x.size"
   ]
  },
  {
   "cell_type": "code",
   "execution_count": 212,
   "id": "07c43b0e-dcf6-4591-9ae1-6a80a0e8072c",
   "metadata": {},
   "outputs": [],
   "source": [
    "x = np.empty((300, 300))\n",
    "x[::3, ::2] = np.nan"
   ]
  },
  {
   "cell_type": "code",
   "execution_count": 28,
   "id": "c651d762-7bc4-43dc-b1f1-599e3acffaea",
   "metadata": {},
   "outputs": [
    {
     "name": "stdout",
     "output_type": "stream",
     "text": [
      "117 µs ± 1.53 µs per loop (mean ± std. dev. of 7 runs, 10000 loops each)\n"
     ]
    }
   ],
   "source": [
    "%%timeit \n",
    "np.isnan(x).sum() / x.size"
   ]
  },
  {
   "cell_type": "code",
   "execution_count": 213,
   "id": "9bdf933c-f9ff-41d7-964f-11f490b82740",
   "metadata": {},
   "outputs": [
    {
     "name": "stdout",
     "output_type": "stream",
     "text": [
      "98.1 µs ± 861 ns per loop (mean ± std. dev. of 7 runs, 10000 loops each)\n"
     ]
    }
   ],
   "source": [
    "%%timeit # !!!!!!!!!!\n",
    "np.isnan(x).mean()"
   ]
  },
  {
   "cell_type": "code",
   "execution_count": 29,
   "id": "5609bf84-ef00-44ff-8236-cd4761b356a8",
   "metadata": {},
   "outputs": [
    {
     "name": "stdout",
     "output_type": "stream",
     "text": [
      "123 µs ± 1.49 µs per loop (mean ± std. dev. of 7 runs, 10000 loops each)\n"
     ]
    }
   ],
   "source": [
    "%%timeit \n",
    "np.isnan(x).sum() / np.prod(x.shape)"
   ]
  },
  {
   "cell_type": "code",
   "execution_count": 33,
   "id": "4723632a-187f-4249-81a7-cf73d94db038",
   "metadata": {},
   "outputs": [
    {
     "data": {
      "text/plain": [
       "array([1., 2., 3., 5.])"
      ]
     },
     "execution_count": 33,
     "metadata": {},
     "output_type": "execute_result"
    }
   ],
   "source": [
    "# -- 31 --\n",
    "    # На примере массива x = np.array([[1., 2.], [np.nan, 3.], [5., 5.], [np.nan, np.nan]])\n",
    "    # составьте массив из уникальных значений массива без учета nan\n",
    "\n",
    "x = np.array([[1., 2.], [np.nan, 3.], [5., 5.], [np.nan, np.nan]])\n",
    "np.unique(x[~np.isnan(x)])"
   ]
  },
  {
   "cell_type": "code",
   "execution_count": 214,
   "id": "51328ca1-a4b6-445d-aad7-7bb931191b35",
   "metadata": {},
   "outputs": [
    {
     "data": {
      "text/plain": [
       "5"
      ]
     },
     "execution_count": 214,
     "metadata": {},
     "output_type": "execute_result"
    }
   ],
   "source": [
    "# -- 32 --\n",
    "    # На примере массива x = np.array([6, 2, 0, 3, 0, 0, 5, 7, 0]) \n",
    "    # найдите максимальный элемент в массиве среди элементов, \n",
    "    # перед которыми стоит нулевой \n",
    "\n",
    "x = np.array([6, 2, 0, 3, 0, 0, 5, 7, 0]) \n",
    "mask = np.argwhere(x[:-1] == 0) + 1\n",
    "# mask = mask[mask < len(x)]\n",
    "x[mask].max()"
   ]
  },
  {
   "cell_type": "code",
   "execution_count": 215,
   "id": "795bf554-a890-4d14-b164-ada0dcfba3ff",
   "metadata": {},
   "outputs": [],
   "source": [
    "x = np.empty(1000)\n",
    "x[::5] = 0"
   ]
  },
  {
   "cell_type": "code",
   "execution_count": 216,
   "id": "02728675-3fca-4bbc-abf8-65a3695dfe9e",
   "metadata": {},
   "outputs": [
    {
     "name": "stdout",
     "output_type": "stream",
     "text": [
      "11.4 µs ± 158 ns per loop (mean ± std. dev. of 7 runs, 100000 loops each)\n"
     ]
    }
   ],
   "source": [
    "%%timeit \n",
    "mask = np.argwhere(x[:-1] == 0) + 1\n",
    "# mask = mask[mask < len(x)]\n",
    "x[mask].max()"
   ]
  },
  {
   "cell_type": "code",
   "execution_count": 217,
   "id": "50981b05-0789-4222-b9b2-6dcb54172f8f",
   "metadata": {},
   "outputs": [
    {
     "name": "stdout",
     "output_type": "stream",
     "text": [
      "15.2 µs ± 1.01 µs per loop (mean ± std. dev. of 7 runs, 100000 loops each)\n"
     ]
    }
   ],
   "source": [
    "%%timeit \n",
    "np.max(x[np.r_[False, x==0][:-1]])"
   ]
  },
  {
   "cell_type": "code",
   "execution_count": 43,
   "id": "7e9538c4-95d7-4e17-b431-6f82905526b5",
   "metadata": {},
   "outputs": [
    {
     "name": "stdout",
     "output_type": "stream",
     "text": [
      "10.7 µs ± 147 ns per loop (mean ± std. dev. of 7 runs, 100000 loops each)\n"
     ]
    }
   ],
   "source": [
    "%%timeit \n",
    "np.max(x[1:][x[1:] == np.diff(x)])"
   ]
  },
  {
   "cell_type": "code",
   "execution_count": 44,
   "id": "10bf3c1c-1534-4542-9f0e-04224c0cd6f1",
   "metadata": {},
   "outputs": [
    {
     "data": {
      "text/plain": [
       "array([0. , 0. , 0. , 2. , 0. , 1.5, 0. ])"
      ]
     },
     "execution_count": 44,
     "metadata": {},
     "output_type": "execute_result"
    }
   ],
   "source": [
    "# -- 33 --\n",
    "    # Пусть заданы два массива одинакового размера. \n",
    "    # Поэлементно разделите один массив на другой.\n",
    "    # В случае, если делитель равен нулю, соответствующему элементу\n",
    "    # результирующего массива присвойте нуль. \n",
    "\n",
    "nominator = np.random.choice(5, 7)\n",
    "denominator = np.random.choice(5, 7)\n",
    "denominator[:3] = 0\n",
    "nominator / np.where(denominator != 0, denominator, np.inf)"
   ]
  },
  {
   "cell_type": "code",
   "execution_count": 223,
   "id": "97b624aa-55a8-463a-ad7a-8a4cdbf962e9",
   "metadata": {},
   "outputs": [],
   "source": [
    "nominator = np.random.choice(5, 300)\n",
    "denominator = np.random.choice(5, 300)\n",
    "denominator[::10] = 0"
   ]
  },
  {
   "cell_type": "code",
   "execution_count": 225,
   "id": "49056632-7026-477a-9e43-ccb814e5c6b5",
   "metadata": {},
   "outputs": [
    {
     "name": "stderr",
     "output_type": "stream",
     "text": [
      "<magic-timeit>:1: RuntimeWarning: divide by zero encountered in true_divide\n",
      "<magic-timeit>:1: RuntimeWarning: invalid value encountered in true_divide\n"
     ]
    },
    {
     "name": "stdout",
     "output_type": "stream",
     "text": [
      "5.77 µs ± 111 ns per loop (mean ± std. dev. of 7 runs, 100000 loops each)\n"
     ]
    }
   ],
   "source": [
    "%%timeit\n",
    "np.where(denominator != 0, nominator / denominator, 0)"
   ]
  },
  {
   "cell_type": "code",
   "execution_count": 227,
   "id": "022402f6-8ab5-4ad1-a006-d6cacc6950a7",
   "metadata": {},
   "outputs": [
    {
     "name": "stderr",
     "output_type": "stream",
     "text": [
      "<magic-timeit>:1: RuntimeWarning: divide by zero encountered in true_divide\n",
      "<magic-timeit>:1: RuntimeWarning: invalid value encountered in true_divide\n"
     ]
    },
    {
     "name": "stdout",
     "output_type": "stream",
     "text": [
      "20.3 µs ± 1.86 µs per loop (mean ± std. dev. of 7 runs, 10000 loops each)\n"
     ]
    }
   ],
   "source": [
    "%%timeit\n",
    "res = np.divide(nominator, denominator)\n",
    "np.nan_to_num(res, copy=False)"
   ]
  },
  {
   "cell_type": "code",
   "execution_count": 228,
   "id": "6c16ec5f-29ef-4cf5-9023-5c33ba1484ae",
   "metadata": {},
   "outputs": [
    {
     "name": "stderr",
     "output_type": "stream",
     "text": [
      "<magic-timeit>:1: RuntimeWarning: divide by zero encountered in true_divide\n",
      "<magic-timeit>:1: RuntimeWarning: invalid value encountered in true_divide\n"
     ]
    },
    {
     "name": "stdout",
     "output_type": "stream",
     "text": [
      "4.67 µs ± 76.5 ns per loop (mean ± std. dev. of 7 runs, 100000 loops each)\n"
     ]
    }
   ],
   "source": [
    "%%timeit\n",
    "res = np.divide(nominator, denominator)\n",
    "res[denominator == 0] = 0"
   ]
  },
  {
   "cell_type": "code",
   "execution_count": 52,
   "id": "18b26251-4ac4-4fbd-b30f-89408225bfdd",
   "metadata": {},
   "outputs": [
    {
     "name": "stdout",
     "output_type": "stream",
     "text": [
      "3.74 µs ± 98.6 ns per loop (mean ± std. dev. of 7 runs, 100000 loops each)\n"
     ]
    }
   ],
   "source": [
    "%%timeit \n",
    "nominator / np.where(denominator != 0, denominator, np.inf)"
   ]
  },
  {
   "cell_type": "code",
   "execution_count": 221,
   "id": "80713876-a546-4e51-9975-4d62b1f1e016",
   "metadata": {},
   "outputs": [],
   "source": [
    "nominator = np.random.choice(5, 300).astype(float)\n",
    "denominator = np.random.choice(5, 300).astype(float)\n",
    "denominator[::10] = 0."
   ]
  },
  {
   "cell_type": "code",
   "execution_count": 54,
   "id": "e92a9e8e-0686-4acd-8b56-18e8e3e2515a",
   "metadata": {},
   "outputs": [
    {
     "name": "stdout",
     "output_type": "stream",
     "text": [
      "6.94 µs ± 109 ns per loop (mean ± std. dev. of 7 runs, 100000 loops each)\n"
     ]
    }
   ],
   "source": [
    "%%timeit \n",
    "np.divide(nominator, denominator, out=np.zeros_like(nominator), where=denominator!=0)"
   ]
  },
  {
   "cell_type": "code",
   "execution_count": 36,
   "id": "057e624d-beef-4929-8b0c-dc0ef2871403",
   "metadata": {},
   "outputs": [
    {
     "data": {
      "text/plain": [
       "array([2., 2., 2., 2., 1., 4., 1., 1., 2., 1.])"
      ]
     },
     "execution_count": 36,
     "metadata": {},
     "output_type": "execute_result"
    }
   ],
   "source": [
    "# -- 34 --\n",
    "    # Пусть заданы два массива x = np.ones(10) и i = np.array([0, 1, 2, 3, 5, 5, 5, 8]).\n",
    "    # Прибавьте единицу к тем элементам массива x, индексы которых указаны в массиве i. \n",
    "    # В случае, если некоторый индекс встретился в массиве i несколько раз, \n",
    "    # прибавьте к соответствующему элементу массива x число вхождений данного индекса в массив i.\n",
    "\n",
    "x = np.ones(10) \n",
    "i = np.array([0, 1, 2, 3, 5, 5, 5, 8])\n",
    "unique, counts =  np.unique(i, return_counts=True)\n",
    "x[unique] += counts\n",
    "x"
   ]
  },
  {
   "cell_type": "code",
   "execution_count": 73,
   "id": "b71e3ed3-eff4-43b8-9d3a-8ac50759cc91",
   "metadata": {},
   "outputs": [],
   "source": [
    "x = np.ones(300)\n",
    "i = np.random.choice(300, 20)\n",
    "i = i.repeat(2)\n",
    "j = np.random.choice(300, 40)\n",
    "i = np.hstack([i, j])\n",
    "np.random.shuffle(i)"
   ]
  },
  {
   "cell_type": "code",
   "execution_count": 71,
   "id": "9f6e234f-8ed3-4e15-8938-2ed6fb651142",
   "metadata": {},
   "outputs": [
    {
     "name": "stdout",
     "output_type": "stream",
     "text": [
      "14.8 µs ± 176 ns per loop (mean ± std. dev. of 7 runs, 100000 loops each)\n"
     ]
    }
   ],
   "source": [
    "%%timeit \n",
    "unique, counts =  np.unique(i, return_counts=True)\n",
    "x[unique] += counts"
   ]
  },
  {
   "cell_type": "code",
   "execution_count": 77,
   "id": "c59c4c67-bcd3-4060-91bd-540eda82f860",
   "metadata": {},
   "outputs": [
    {
     "name": "stdout",
     "output_type": "stream",
     "text": [
      "2.34 µs ± 60 ns per loop (mean ± std. dev. of 7 runs, 100000 loops each)\n"
     ]
    }
   ],
   "source": [
    "%%timeit \n",
    "x + np.bincount(i, minlength=len(x))"
   ]
  },
  {
   "cell_type": "code",
   "execution_count": 78,
   "id": "42f76205-27db-4ca5-848f-b012082aefa4",
   "metadata": {},
   "outputs": [
    {
     "name": "stdout",
     "output_type": "stream",
     "text": [
      "[2 0 0 1 0 0 0 0 1 0 2 1]\n"
     ]
    },
    {
     "data": {
      "text/plain": [
       "array([ 0,  0,  3,  8, 10, 10, 11])"
      ]
     },
     "execution_count": 78,
     "metadata": {},
     "output_type": "execute_result"
    }
   ],
   "source": [
    "# -- 35 --\n",
    "    # По заданному массиву y = np.bincount([0, 0, 3, 8, 10, 10, 11]) \n",
    "    # постройте массив x такой, чтобы np.bincount(x) = y \n",
    "\n",
    "y = np.bincount([0, 0, 3, 8, 10, 10, 11])\n",
    "print(y)\n",
    "np.repeat(np.nonzero(y), y[y > 0])"
   ]
  },
  {
   "cell_type": "code",
   "execution_count": 84,
   "id": "446ed6cd-5a61-4aa8-8c1a-312bbc517134",
   "metadata": {},
   "outputs": [],
   "source": [
    "y = np.bincount(np.random.choice(30, 300))"
   ]
  },
  {
   "cell_type": "code",
   "execution_count": 85,
   "id": "5f9e0acc-4162-4d0c-b8ef-d23711a28546",
   "metadata": {},
   "outputs": [
    {
     "name": "stdout",
     "output_type": "stream",
     "text": [
      "6.72 µs ± 88.5 ns per loop (mean ± std. dev. of 7 runs, 100000 loops each)\n"
     ]
    }
   ],
   "source": [
    "%%timeit \n",
    "np.repeat(np.nonzero(y), y[y > 0])"
   ]
  },
  {
   "cell_type": "code",
   "execution_count": 86,
   "id": "1439c095-2a83-4827-8546-b0d26a77c1c5",
   "metadata": {},
   "outputs": [
    {
     "name": "stdout",
     "output_type": "stream",
     "text": [
      "2.54 µs ± 35.9 ns per loop (mean ± std. dev. of 7 runs, 100000 loops each)\n"
     ]
    }
   ],
   "source": [
    "%%timeit\n",
    "np.repeat(np.arange(y.size), y)"
   ]
  },
  {
   "cell_type": "code",
   "execution_count": 3,
   "id": "04b1eb64-6804-45a9-8da1-18e0f43552ed",
   "metadata": {},
   "outputs": [
    {
     "data": {
      "text/plain": [
       "array([0, 4, 6])"
      ]
     },
     "execution_count": 3,
     "metadata": {},
     "output_type": "execute_result"
    }
   ],
   "source": [
    "# -- 36 --\n",
    "    # Определите самые часто встречающиеся элементы в массиве целых неотрицательных чисел.\n",
    "    # Решите задачу на примере массива x = np.array([0,1,2,0,6,6,7,4,5,4])\n",
    "    \n",
    "x = np.array([0,1,2,0,6,6,7,4,5,4])\n",
    "bins = np.bincount(x)\n",
    "np.argwhere(bins==bins.max()).ravel()"
   ]
  },
  {
   "cell_type": "code",
   "execution_count": 229,
   "id": "38001794-7e21-4c36-bd0b-d82b39de1503",
   "metadata": {},
   "outputs": [],
   "source": [
    "x = np.random.choice(20, 300)"
   ]
  },
  {
   "cell_type": "code",
   "execution_count": 230,
   "id": "8fb9a6df-14db-41bc-b614-1224a91e916b",
   "metadata": {},
   "outputs": [
    {
     "name": "stdout",
     "output_type": "stream",
     "text": [
      "9.55 µs ± 194 ns per loop (mean ± std. dev. of 7 runs, 100000 loops each)\n"
     ]
    }
   ],
   "source": [
    "%%timeit \n",
    "bins = np.bincount(x)\n",
    "np.argwhere(bins==bins.max())"
   ]
  },
  {
   "cell_type": "code",
   "execution_count": 91,
   "id": "cff96afd-b52f-449d-81ab-2d750c057e3e",
   "metadata": {},
   "outputs": [
    {
     "name": "stdout",
     "output_type": "stream",
     "text": [
      "19 µs ± 491 ns per loop (mean ± std. dev. of 7 runs, 10000 loops each)\n"
     ]
    }
   ],
   "source": [
    "%%timeit \n",
    "unique, count = np.unique(x, return_counts=True)\n",
    "unique[count == count.max()]"
   ]
  },
  {
   "cell_type": "code",
   "execution_count": 98,
   "id": "fbfe10ba-5ff8-4a3a-8e0e-1b34beb2ea59",
   "metadata": {},
   "outputs": [
    {
     "data": {
      "text/plain": [
       "[array([[1, 2],\n",
       "        [1, 3]]),\n",
       " array([[2, 2]]),\n",
       " array([[3, 4],\n",
       "        [3, 5]]),\n",
       " array([[5, 6],\n",
       "        [5, 5]]),\n",
       " array([[7, 8]])]"
      ]
     },
     "execution_count": 98,
     "metadata": {},
     "output_type": "execute_result"
    }
   ],
   "source": [
    "# -- 37 --\n",
    "    # Разбейте двумерный массив на список двумерных массивов \n",
    "    # по уникальным значениям в первом столбце.\n",
    "    # Решите задачу на примере массива x = np.array([[1, 2], [1, 3], [2, 2], [3, 4], [3, 5]]),\n",
    "    # в результате должен получиться список\n",
    "    # [array([[1, 2], [1, 3]]), array([[2, 2]]), array([[3, 4], [3, 5]])]. \n",
    "    \n",
    "x = np.array([[1, 2], [1, 3],[5, 6], [7, 8], [5, 5], [2, 2], [3, 4], [3, 5]])\n",
    "first_column = x[:, 0]\n",
    "_, counts = np.unique(first_column, return_counts=True)\n",
    "indexes = np.cumsum(counts)[:-1]\n",
    "result = np.split(x[np.argsort(first_column)], indexes)\n",
    "result"
   ]
  },
  {
   "cell_type": "code",
   "execution_count": 93,
   "id": "9bf03266-bba6-4b7b-a4b7-1f098703ea5a",
   "metadata": {},
   "outputs": [],
   "source": [
    "x = np.random.choice(20, 200).reshape((100, 2))"
   ]
  },
  {
   "cell_type": "code",
   "execution_count": 94,
   "id": "41954d83-f169-4af9-ad6c-27ace410d230",
   "metadata": {},
   "outputs": [
    {
     "name": "stdout",
     "output_type": "stream",
     "text": [
      "54.4 µs ± 972 ns per loop (mean ± std. dev. of 7 runs, 10000 loops each)\n"
     ]
    }
   ],
   "source": [
    "%%timeit\n",
    "first_column = x[:, 0]\n",
    "_, counts = np.unique(first_column, return_counts=True)\n",
    "indexes = np.cumsum(counts)[:-1]\n",
    "result = np.split(x[np.argsort(first_column)], indexes)"
   ]
  },
  {
   "cell_type": "code",
   "execution_count": 235,
   "id": "1d3006ba-3e61-41b3-89ca-176b8d6406fb",
   "metadata": {},
   "outputs": [
    {
     "data": {
      "text/plain": [
       "[array([[1, 2],\n",
       "        [3, 4]]),\n",
       " array([[3, 5]]),\n",
       " array([[4, 4]]),\n",
       " array([[5, 5]])]"
      ]
     },
     "execution_count": 235,
     "metadata": {},
     "output_type": "execute_result"
    }
   ],
   "source": [
    "x = np.array([[1, 2],[3, 4], [3, 5], [4, 4], [5, 5]])\n",
    "np.array_split(x, len(np.unique(x[:, 0])))"
   ]
  },
  {
   "cell_type": "code",
   "execution_count": 95,
   "id": "2273cde9-3dab-486c-a86a-8df9b26e3251",
   "metadata": {},
   "outputs": [
    {
     "name": "stdout",
     "output_type": "stream",
     "text": [
      "37.2 µs ± 795 ns per loop (mean ± std. dev. of 7 runs, 10000 loops each)\n"
     ]
    }
   ],
   "source": [
    "%%timeit \n",
    "np.array_split(x, len(np.unique(x[:, 0])))"
   ]
  },
  {
   "cell_type": "code",
   "execution_count": 589,
   "id": "2a66015f-21fa-4a91-8e74-313363d3ed6c",
   "metadata": {},
   "outputs": [
    {
     "data": {
      "text/plain": [
       "[array([0, 2, 2, 8]),\n",
       " array([10, 11, 13, 18]),\n",
       " array([20, 24]),\n",
       " array([34]),\n",
       " array([], dtype=int64),\n",
       " array([], dtype=int64),\n",
       " array([], dtype=int64),\n",
       " array([], dtype=int64),\n",
       " array([88])]"
      ]
     },
     "execution_count": 589,
     "metadata": {},
     "output_type": "execute_result"
    }
   ],
   "source": [
    "# -- 38 --\n",
    "    # По заданному одномерному массиву неотрицательных чисел постройте список подмассивов,\n",
    "    # сожержащих элементы из полуинтервалов [i * 10, (i+1) * 10), i = 0, 1, 2, …\n",
    "    # Решите задачу на примере массива x = np.array([8, 2, 34, 0, 11, 18, 13, 2, 24, 10, 20]),\n",
    "    # в результате должен получиться список [array([0, 2, 2, 8]), array([10, 11, 13, 18]), array([20, 24]), array([34])].\n",
    "\n",
    "x = np.array([8, 2, 34, 0, 11, 18, 13, 2, 24, 10, 20, 88])\n",
    "sorted_x = np.sort(x)\n",
    "blocks = np.arange(10, max(x), 10)\n",
    "# indexes = np.sum((sorted_x < blocks), axis=1) # для кажд блока индекс последнего вхождения\n",
    "indexes = np.searchsorted(sorted_x, blocks)\n",
    "np.split(sorted_x, indexes)"
   ]
  },
  {
   "cell_type": "code",
   "execution_count": 41,
   "id": "73c6ea17-1d5e-441e-ab86-605c61f3ef09",
   "metadata": {},
   "outputs": [],
   "source": [
    "# -- 39 --\n",
    "# Перечислите все известные вам способы соединения заданных двумерных массивов по вертикали. \n",
    "# Какой из способов работает быстрее?\n",
    "\n",
    "# 1. np.concatenate(axis=0)\n",
    " # ~ concatenate(): \n",
    "    # 2. np.vstack \n",
    "    # 3. np.hstack(x.T, y.T).T \n",
    "    # 4. np.append(x, y, axis=0)  \n",
    "\n",
    "    # 5. np.stack((*x, *y), axis=0)   * очень медленно, но нужны одинаковые shapes\n",
    "    # 6. np.row_stack([x, y])\n",
    "    # 7. np.column_stack((x.T, y.T)).T\n",
    "    # 8. np.block([x.T, y.T]).T"
   ]
  },
  {
   "cell_type": "code",
   "execution_count": 338,
   "id": "0a282380-6337-433d-be7d-7f946d6ce357",
   "metadata": {},
   "outputs": [],
   "source": [
    "x = np.arange(10000).reshape((200, 50))\n",
    "y = np.arange(10000, 25000).reshape((300, 50))"
   ]
  },
  {
   "cell_type": "code",
   "execution_count": 306,
   "id": "887779d4-e2a7-4872-8e84-de13d628cd93",
   "metadata": {},
   "outputs": [
    {
     "name": "stdout",
     "output_type": "stream",
     "text": [
      "7.69 µs ± 326 ns per loop (mean ± std. dev. of 7 runs, 100000 loops each)\n"
     ]
    }
   ],
   "source": [
    "%%timeit\n",
    "np.concatenate([x, y], axis=0)"
   ]
  },
  {
   "cell_type": "code",
   "execution_count": 307,
   "id": "0a726f89-e3d0-4839-a3f4-5254ecb6a0a4",
   "metadata": {},
   "outputs": [
    {
     "name": "stdout",
     "output_type": "stream",
     "text": [
      "14.4 µs ± 3.81 µs per loop (mean ± std. dev. of 7 runs, 100000 loops each)\n"
     ]
    }
   ],
   "source": [
    "%%timeit\n",
    "np.vstack([x, y])"
   ]
  },
  {
   "cell_type": "code",
   "execution_count": 308,
   "id": "185b7cd0-f36f-4dc1-b063-5a7ab3a8a7f1",
   "metadata": {},
   "outputs": [
    {
     "name": "stdout",
     "output_type": "stream",
     "text": [
      "16.6 µs ± 3.46 µs per loop (mean ± std. dev. of 7 runs, 100000 loops each)\n"
     ]
    }
   ],
   "source": [
    "%%timeit\n",
    "np.hstack([x.T, y.T]).T"
   ]
  },
  {
   "cell_type": "code",
   "execution_count": 309,
   "id": "bf505d00-3921-4bbc-83d3-b7b4e5f5aba8",
   "metadata": {},
   "outputs": [
    {
     "name": "stdout",
     "output_type": "stream",
     "text": [
      "11.2 µs ± 1.02 µs per loop (mean ± std. dev. of 7 runs, 100000 loops each)\n"
     ]
    }
   ],
   "source": [
    "%%timeit\n",
    "np.append(x, y, axis=0)"
   ]
  },
  {
   "cell_type": "code",
   "execution_count": 310,
   "id": "5f75e92c-3135-42a2-8003-9f2378567924",
   "metadata": {},
   "outputs": [
    {
     "name": "stdout",
     "output_type": "stream",
     "text": [
      "776 µs ± 87.7 µs per loop (mean ± std. dev. of 7 runs, 1000 loops each)\n"
     ]
    }
   ],
   "source": [
    "%%timeit\n",
    "np.stack((*x, *y), axis=0)"
   ]
  },
  {
   "cell_type": "code",
   "execution_count": 339,
   "id": "ef45ab60-fdf6-4aa6-af0d-e928dc482a44",
   "metadata": {},
   "outputs": [
    {
     "name": "stdout",
     "output_type": "stream",
     "text": [
      "8.78 µs ± 527 ns per loop (mean ± std. dev. of 7 runs, 100000 loops each)\n"
     ]
    }
   ],
   "source": [
    "%%timeit\n",
    "np.row_stack([x, y])"
   ]
  },
  {
   "cell_type": "code",
   "execution_count": 316,
   "id": "5a83ce6c-1ce9-4f79-944a-5defa81f610e",
   "metadata": {},
   "outputs": [
    {
     "name": "stdout",
     "output_type": "stream",
     "text": [
      "10.3 µs ± 570 ns per loop (mean ± std. dev. of 7 runs, 100000 loops each)\n"
     ]
    }
   ],
   "source": [
    "%%timeit\n",
    "np.column_stack((x.T, y.T)).T"
   ]
  },
  {
   "cell_type": "code",
   "execution_count": 312,
   "id": "e5f47385-4d73-4942-b89d-927416313268",
   "metadata": {},
   "outputs": [
    {
     "name": "stdout",
     "output_type": "stream",
     "text": [
      "20.6 µs ± 3.89 µs per loop (mean ± std. dev. of 7 runs, 10000 loops each)\n"
     ]
    }
   ],
   "source": [
    "%%timeit\n",
    "np.block([x.T, y.T]).T"
   ]
  },
  {
   "cell_type": "code",
   "execution_count": null,
   "id": "e0e6f838-d830-4d16-a8de-c0b19524d494",
   "metadata": {},
   "outputs": [],
   "source": [
    "# -- 40 --\n",
    "    # Для двух одномерных массивов x = np.arange(3) и y = np.arange(5) \n",
    "    # постройте двумерный массив строки которого - всевозможные пары элементов из x и y.\n",
    "\n",
    "x = np.arange(3) \n",
    "y = np.arange(5) \n",
    "x = x.repeat(5)\n",
    "y = np.tile(y, 3) # meshgrid !\n",
    "np.stack([x, y], axis=0).reshape(-1, 2)"
   ]
  },
  {
   "cell_type": "code",
   "execution_count": 584,
   "id": "f50e8b72-e72b-4557-948f-980dcf285697",
   "metadata": {},
   "outputs": [
    {
     "data": {
      "text/plain": [
       "array([[0, 0],\n",
       "       [0, 1],\n",
       "       [0, 2],\n",
       "       [0, 3],\n",
       "       [0, 4],\n",
       "       [1, 0],\n",
       "       [1, 1],\n",
       "       [1, 2],\n",
       "       [1, 3],\n",
       "       [1, 4],\n",
       "       [2, 0],\n",
       "       [2, 1],\n",
       "       [2, 2],\n",
       "       [2, 3],\n",
       "       [2, 4]])"
      ]
     },
     "execution_count": 584,
     "metadata": {},
     "output_type": "execute_result"
    }
   ],
   "source": [
    "x = np.arange(3) \n",
    "y = np.arange(5)\n",
    "np.array(np.meshgrid(x, y)).T.reshape(-1, 2)"
   ]
  },
  {
   "cell_type": "code",
   "execution_count": 333,
   "id": "8fd34506-cb5b-416d-9edd-f16c8af9a3a3",
   "metadata": {},
   "outputs": [
    {
     "data": {
      "text/plain": [
       "array([[1, 5],\n",
       "       [2, 6],\n",
       "       [3, 7],\n",
       "       [4, 8]])"
      ]
     },
     "execution_count": 333,
     "metadata": {},
     "output_type": "execute_result"
    }
   ],
   "source": [
    "# -- 41 --\n",
    "    # По двум входным одномерным массивам одинаковой длины составьте массив пар элементов с одинаковыми индесами.\n",
    "    # Решите задачу на примере массивов x = np.array([1,2,3,4]) и y = np.array([5,6,7,8])\n",
    "\n",
    "x = np.array([1,2,3,4])\n",
    "y = np.array([5,6,7,8])\n",
    "\n",
    "np.column_stack([x, y]) # 1 \n",
    "\n",
    "np.concatenate([x.reshape(-1, 1), y.reshape(-1, 1)], axis=1) # 2"
   ]
  },
  {
   "cell_type": "code",
   "execution_count": 350,
   "id": "e33303ff-5732-4576-85dd-ac1fd38864d8",
   "metadata": {},
   "outputs": [
    {
     "data": {
      "text/plain": [
       "array([[[ 1.,  2.],\n",
       "        [ 3.,  4.]],\n",
       "\n",
       "       [[ 0.,  0.],\n",
       "        [ 0.,  0.]],\n",
       "\n",
       "       [[ 5.,  6.],\n",
       "        [ 7.,  8.]],\n",
       "\n",
       "       [[ 0.,  0.],\n",
       "        [ 0.,  0.]],\n",
       "\n",
       "       [[ 9., 10.],\n",
       "        [11., 12.]]])"
      ]
     },
     "execution_count": 350,
     "metadata": {},
     "output_type": "execute_result"
    }
   ],
   "source": [
    "# -- 42 --\n",
    "    # По заданному непустому списку двумерных массивов одинаковых размеров составьте трехмерный массив\n",
    "    # в котором вдоль нулевой оси расположены массивы из списка, между каждой парой которых вставлен массив \n",
    "    # полностью заполненный нулями.\n",
    "    # Решите задачу для списка l = [np.array([[1, 2], [3, 4]]), \n",
    "    # np.array([[5, 6], [7, 8]]), np.array([[9, 10], [11, 12]])]\n",
    "    \n",
    "l = [np.array([[1, 2], [3, 4]]), np.array([[5, 6], [7, 8]]), np.array([[9, 10], [11, 12]])]\n",
    "res = np.zeros((2 * len(l) - 1, *l[0].shape))\n",
    "res[::2] = l\n",
    "res"
   ]
  },
  {
   "cell_type": "code",
   "execution_count": 356,
   "id": "d4091977-da96-4ea9-91fd-bb8523a12665",
   "metadata": {},
   "outputs": [
    {
     "data": {
      "text/plain": [
       "array([[3, 7, 2, 5, 0],\n",
       "       [7, 2, 5, 0, 9],\n",
       "       [2, 5, 0, 9, 8],\n",
       "       [5, 0, 9, 8, 2],\n",
       "       [0, 9, 8, 2, 4],\n",
       "       [9, 8, 2, 4, 5]])"
      ]
     },
     "execution_count": 356,
     "metadata": {},
     "output_type": "execute_result"
    }
   ],
   "source": [
    "# -- 43 -- \n",
    "    # Преобразуйте одномерный массив x = np.array([3,7,2,5,0,9,8,2,4,5]) в двумерный массив,\n",
    "    # первая строка которого - элементы массива x с индексами от 0 до 4, вторая строка - с 1 до 5 и т.д.\n",
    "    \n",
    "x = np.array([3,7,2,5,0,9,8,2,4,5])\n",
    "np.lib.stride_tricks.as_strided(x, strides=(8, 8), shape=(6, 5))"
   ]
  },
  {
   "cell_type": "code",
   "execution_count": 593,
   "id": "0c5a7bf1-1155-4337-87d6-66067e074c76",
   "metadata": {},
   "outputs": [
    {
     "name": "stdout",
     "output_type": "stream",
     "text": [
      "[[ 0  1  2  3  4  5  6]\n",
      " [ 7  8  9 10 11 12 13]\n",
      " [14 15 16 17 18 19 20]\n",
      " [21 22 23 24 25 26 27]\n",
      " [28 29 30 31 32 33 34]\n",
      " [35 36 37 38 39 40 41]\n",
      " [42 43 44 45 46 47 48]]\n"
     ]
    },
    {
     "data": {
      "text/plain": [
       "array([[[ 0,  1,  2],\n",
       "        [ 7,  8,  9],\n",
       "        [14, 15, 16]],\n",
       "\n",
       "       [[ 3,  4,  5],\n",
       "        [10, 11, 12],\n",
       "        [17, 18, 19]],\n",
       "\n",
       "       [[21, 22, 23],\n",
       "        [28, 29, 30],\n",
       "        [35, 36, 37]],\n",
       "\n",
       "       [[24, 25, 26],\n",
       "        [31, 32, 33],\n",
       "        [38, 39, 40]]])"
      ]
     },
     "execution_count": 593,
     "metadata": {},
     "output_type": "execute_result"
    }
   ],
   "source": [
    "# -- 44 --\n",
    "    # Для заданного двумерного массива постройте трехмерный массив,\n",
    "    # содержащий всевозможные неперекрывающиеся блоки размера 3x3, начиная с левого верхнего угла.\n",
    "    # Если высота/ширина исходного массива не кратна трем, исключите из рассмотрения последние строки/столбцы.\n",
    "    # Решите задачу на примере массива x = np.arange(49).reshape(7,7)\n",
    "    \n",
    "x = np.arange(49).reshape(7, 7)\n",
    "print(x)\n",
    "n_rows, n_cols = (x.shape[0] // 3) * 3, (x.shape[1] // 3) * 3\n",
    "x = x[:n_rows, :n_cols].copy()                      # .copy чтобы сменить страйды\n",
    "x = x.reshape((n_rows // 3, 3, n_cols))             # n_rows // 3 = k блоков высоты 3, длины n_cols\n",
    "# каждый из k блоков делим на n_cols // 3 блоков 3x3  \n",
    "x = np.lib.stride_tricks.as_strided(x, strides=(n_cols * 3 * 8, 8 * 3, n_cols * 8, 8), shape=(n_rows // 3, n_cols // 3, 3, 3))\n",
    "x.reshape(4, 3, 3)                                  # убираем размерность 0"
   ]
  },
  {
   "cell_type": "code",
   "execution_count": 429,
   "id": "1c6b10c2-069b-4963-a847-51488bec9d11",
   "metadata": {},
   "outputs": [],
   "source": [
    "import numpy.ma as ma"
   ]
  },
  {
   "cell_type": "code",
   "execution_count": 442,
   "id": "8aba9836-9ba7-4ab7-972b-391053b32fc3",
   "metadata": {},
   "outputs": [
    {
     "data": {
      "text/plain": [
       "(masked_array(data=[--, 0.0, 0.0, 0.0, 0.0, 0.0, 0.0, 0.0, 0.0, 0.0, 0.0,\n",
       "                    0.0, 0.0, 0.0, 0.0, 0.0, 0.0, 0.0, 0.0, 0.0],\n",
       "              mask=[ True, False, False, False, False, False, False, False,\n",
       "                    False, False, False, False, False, False, False, False,\n",
       "                    False, False, False, False],\n",
       "        fill_value=1e+20),\n",
       " 0.0)"
      ]
     },
     "execution_count": 442,
     "metadata": {},
     "output_type": "execute_result"
    }
   ],
   "source": [
    "# -- 45 -- \n",
    "    # Примените маску к элементам одномерного массива, отличающимся от среднего на величину, большую чем 3 стандартных отклонения.\n",
    "    # Решите задачу на примере массива из 20 элеметнов, первый из которых равен 100, а остальные равны 0.\n",
    "    \n",
    "x = np.zeros(20)\n",
    "x[0] = 100\n",
    "mx = ma.masked_greater(x, x.std() + 3)\n",
    "mx, mx.std()"
   ]
  },
  {
   "cell_type": "code",
   "execution_count": 513,
   "id": "096f5b13-1b75-4676-b262-afc0b08e54d2",
   "metadata": {},
   "outputs": [
    {
     "data": {
      "text/plain": [
       "array([[1, 3],\n",
       "       [4, 6]])"
      ]
     },
     "execution_count": 513,
     "metadata": {},
     "output_type": "execute_result"
    }
   ],
   "source": [
    "# -- 46 -- \n",
    "    # Удалите из двумерного массива столбцы, ко всем элементам которых применена маска.\n",
    "    # Решите задачу на примере массива x = np.ma.array([[1, 2, 3], [4, 5, 6]], mask=[[1, 1, 0], [0, 1, 0]]).\n",
    "    \n",
    "x = ma.array([[1, 2, 3], [4, 5, 6]], mask=[[1, 1, 0], [0, 1, 0]])\n",
    "col_mask = np.broadcast_to(np.all(x.mask, axis=0), x.data.shape)\n",
    "x = ma.masked_where(col_mask, x.data)\n",
    "ma.compress_rowcols(x, axis=1)"
   ]
  },
  {
   "cell_type": "code",
   "execution_count": 576,
   "id": "781bf37e-98c2-4636-9f9c-34be76cacfc2",
   "metadata": {},
   "outputs": [
    {
     "data": {
      "text/plain": [
       "masked_array(\n",
       "  data=[[--, 1, 2, 3, --],\n",
       "        [--, 6, 7, 8, --],\n",
       "        [--, 11, 12, 13, --],\n",
       "        [--, 16, 17, 18, --],\n",
       "        [--, 21, 22, 23, --]],\n",
       "  mask=[[ True, False, False, False,  True],\n",
       "        [ True, False, False, False,  True],\n",
       "        [ True, False, False, False,  True],\n",
       "        [ True, False, False, False,  True],\n",
       "        [ True, False, False, False,  True]],\n",
       "  fill_value=999999)"
      ]
     },
     "execution_count": 576,
     "metadata": {},
     "output_type": "execute_result"
    }
   ],
   "source": [
    "# -- 47 -- \n",
    "    # Примените маску к минимальному и максимальному элементу каждой строки двумерного массива.\n",
    "    # Решите задачу на примере массива x = np.arange(25).reshape(5, 5).\n",
    "    \n",
    "x = np.arange(25).reshape(5, 5)\n",
    "mx = ma.array(x)\n",
    "mx[:, [mx.argmin(axis=1), mx.argmax(axis=1)]] = ma.masked\n",
    "mx"
   ]
  },
  {
   "cell_type": "code",
   "execution_count": 626,
   "id": "c0145d8a-4264-4471-bcba-501ef2ec461f",
   "metadata": {},
   "outputs": [
    {
     "name": "stdout",
     "output_type": "stream",
     "text": [
      "[[  3   3   3   8 100]\n",
      " [  3   3   8 100  -3]\n",
      " [  3   8 100  -3  -7]\n",
      " [  8 100  -3  -7   4]\n",
      " [100  -3  -7   4   0]\n",
      " [ -3  -7   4   0   2]\n",
      " [ -7   4   0   2   2]\n",
      " [  4   0   2   2   2]]\n"
     ]
    },
    {
     "data": {
      "text/plain": [
       "array([3., 3., 3., 4., 0., 0., 2., 2.])"
      ]
     },
     "execution_count": 626,
     "metadata": {},
     "output_type": "execute_result"
    }
   ],
   "source": [
    "# -- 48 -- \n",
    "    # Примените медианный фильтр с нечетной шириной окна k к заданному одномерному массиву a: \n",
    "    # i-е значение результирующего массива вычисляется как медиана подмассива a[i - (k-1)/2: i - (k-1)/2 + 1].\n",
    "    # В случае если границы окна выходят за границы массива, \n",
    "    # дополните исходный массив требуемым числом элементов a[0] или a[-1] с нужной стороны.\n",
    "    # Решите задачу на примере массива a = np.array([3, 8, 100, -3, -7, 4, 0, 2]) и ширины окна k = 5.\n",
    "    \n",
    "a = np.array([3, 8, 100, -3, -7, 4, 0, 2])\n",
    "k = 5\n",
    "m = (k - 1) // 2\n",
    "a_new = np.empty(k - 1 + len(a), dtype=a.dtype)\n",
    "a_new[:m] = a[0]\n",
    "a_new[m: len(a_new) - m] = a\n",
    "a_new[-1: -m - 1: -1] = a[-1]\n",
    "# 1\n",
    "a_strided = np.lib.stride_tricks.as_strided(a_new, shape=(len(a), k), strides=(8, 8))\n",
    "print(a_strided)\n",
    "np.median(a_strided, axis=1)"
   ]
  },
  {
   "cell_type": "code",
   "execution_count": 635,
   "id": "6cf57d88-33e5-4b7c-ab21-397f158969ff",
   "metadata": {},
   "outputs": [
    {
     "data": {
      "text/plain": [
       "array([3, 3, 3, 4, 0, 0, 2, 2])"
      ]
     },
     "execution_count": 635,
     "metadata": {},
     "output_type": "execute_result"
    }
   ],
   "source": [
    "# 2\n",
    "res = np.empty(dtype=a.dtype, shape=a.shape)\n",
    "for i in range(m, len(a) + m):\n",
    "    res[i - m] = np.median(a_new[i - m: i + m + 1])\n",
    "res"
   ]
  },
  {
   "cell_type": "code",
   "execution_count": 644,
   "id": "c269cd13-3e36-47b3-9201-d23bbd46e666",
   "metadata": {},
   "outputs": [],
   "source": [
    "a = np.empty(10000, dtype=int)\n",
    "k = 5\n",
    "m = (k - 1) // 2\n",
    "a_new = np.empty(k - 1 + len(a), dtype=a.dtype)\n",
    "a_new[:m] = a[0]\n",
    "a_new[m: len(a_new) - m] = a\n",
    "a_new[-1: -m - 1: -1] = a[-1]"
   ]
  },
  {
   "cell_type": "code",
   "execution_count": 645,
   "id": "d7a8f9fd-b41d-46d4-afc8-9be9a34796cc",
   "metadata": {},
   "outputs": [
    {
     "name": "stdout",
     "output_type": "stream",
     "text": [
      "370 µs ± 2.47 µs per loop (mean ± std. dev. of 7 runs, 1000 loops each)\n"
     ]
    }
   ],
   "source": [
    "%%timeit \n",
    "a_strided = np.lib.stride_tricks.as_strided(a_new, shape=(len(a), k), strides=(8, 8))\n",
    "np.median(a_strided, axis=1)"
   ]
  },
  {
   "cell_type": "code",
   "execution_count": 646,
   "id": "ab161980-1927-4b2a-acbf-a9efa7a8aaac",
   "metadata": {},
   "outputs": [
    {
     "name": "stdout",
     "output_type": "stream",
     "text": [
      "180 ms ± 567 µs per loop (mean ± std. dev. of 7 runs, 1 loop each)\n"
     ]
    }
   ],
   "source": [
    "%%timeit \n",
    "res = np.empty(dtype=a.dtype, shape=a.shape)\n",
    "for i in range(m, len(a) + m):\n",
    "    res[i - m] = np.median(a_new[i - m: i + m + 1])"
   ]
  },
  {
   "cell_type": "code",
   "execution_count": 667,
   "id": "504d776f-8d11-4f0b-9139-b535dd743a0d",
   "metadata": {},
   "outputs": [
    {
     "data": {
      "text/plain": [
       "array([13,  6, 16,  9, 12])"
      ]
     },
     "execution_count": 667,
     "metadata": {},
     "output_type": "execute_result"
    }
   ],
   "source": [
    "# -- 49 --\n",
    "    # По заданному массиву a размера Nx2 постройте одномерный массив длины N,\n",
    "    # i-й элемент которого - сумма i-го элемента первого столбца массива a и элемента первого столбца,\n",
    "    # индекс которого содержится в i-й строке второго столбца. \n",
    "    # В случае, если во втором столбце массива a содержится индекс, выходящий за границы, \n",
    "    # к элементу первого столбца ничего не прибавляйте.\n",
    "    # Решите задачу на примере массива a = np.array([[10, 1], [3, 1], [8, 2], [6, 1], [12, 5]]).\n",
    "    \n",
    "\n",
    "a = np.array([[10, 1], [3, 1], [8, 2], [6, 1], [12, 5]])\n",
    "res = a[:, 0].copy()\n",
    "# 1\n",
    "for i in range(len(a)):\n",
    "    idx = a[i, 1]\n",
    "    add = a[idx, 0] if idx < len(a) else 0\n",
    "    res[i] += add \n",
    "res"
   ]
  },
  {
   "cell_type": "code",
   "execution_count": 706,
   "id": "460cec79-5baa-4288-aebf-2b44a09528ec",
   "metadata": {},
   "outputs": [
    {
     "data": {
      "text/plain": [
       "array([13,  6, 16,  9, 12])"
      ]
     },
     "execution_count": 706,
     "metadata": {},
     "output_type": "execute_result"
    }
   ],
   "source": [
    "a = np.array([[10, 1], [3, 1], [8, 2], [6, 1], [12, 5]])\n",
    "res = a[:, 0].copy()\n",
    "# 2\n",
    "indexes = a[:, 1] \n",
    "add = np.zeros(len(a), dtype=a.dtype)\n",
    "add[indexes < len(a)] = a[indexes[indexes < len(a)], 0]\n",
    "res += add\n",
    "res"
   ]
  },
  {
   "cell_type": "code",
   "execution_count": 714,
   "id": "f424f320-3d44-41a0-8088-a8d27c8351a3",
   "metadata": {},
   "outputs": [],
   "source": [
    "a = np.empty((1000, 2), dtype=int)"
   ]
  },
  {
   "cell_type": "code",
   "execution_count": 717,
   "id": "695374f6-4022-4839-9b3d-a180ddc5f326",
   "metadata": {},
   "outputs": [
    {
     "name": "stdout",
     "output_type": "stream",
     "text": [
      "528 µs ± 10.4 µs per loop (mean ± std. dev. of 7 runs, 1000 loops each)\n"
     ]
    }
   ],
   "source": [
    "%%timeit \n",
    "res = a[:, 0].copy()\n",
    "for i in range(len(a)):\n",
    "    idx = a[i, 1]\n",
    "    add = a[idx, 0] if idx < len(a) else 0\n",
    "    res[i] += add "
   ]
  },
  {
   "cell_type": "code",
   "execution_count": 718,
   "id": "1c4faabf-4bdb-464f-b4da-a93d6c4b3de7",
   "metadata": {},
   "outputs": [
    {
     "name": "stdout",
     "output_type": "stream",
     "text": [
      "8.71 µs ± 218 ns per loop (mean ± std. dev. of 7 runs, 100000 loops each)\n"
     ]
    }
   ],
   "source": [
    "%%timeit\n",
    "res = a[:, 0].copy()\n",
    "indexes = a[:, 1] \n",
    "add = np.zeros(len(a), dtype=a.dtype)\n",
    "add[indexes < len(a)] = a[indexes[indexes < len(a)], 0]\n",
    "res += add"
   ]
  },
  {
   "cell_type": "code",
   "execution_count": 781,
   "id": "cab5084b-bf5d-4fc1-92a5-4a12105d8eee",
   "metadata": {},
   "outputs": [
    {
     "name": "stdout",
     "output_type": "stream",
     "text": [
      "[[ 0  1  2  3]\n",
      " [ 4  5  6  7]\n",
      " [ 8  9 10 11]\n",
      " [12 13 14 15]]\n"
     ]
    },
    {
     "data": {
      "text/plain": [
       "{0: [0],\n",
       " 1: [1, 4],\n",
       " 2: [2, 5, 8],\n",
       " 3: [3, 6, 9, 12],\n",
       " 4: [7, 10, 13],\n",
       " 5: [11, 14],\n",
       " 6: [15]}"
      ]
     },
     "execution_count": 781,
     "metadata": {},
     "output_type": "execute_result"
    }
   ],
   "source": [
    "# -- 50 -- \n",
    "    # По заданному двумерному массиву размера NxN постройте словарь, ключи которого - индексы диагоналей,\n",
    "    # параллельных побочной (нумерация начинается с 0), а значения - списки элементов исходного массива,\n",
    "    # лежащих на соответствующих диагоналях.\n",
    "    # Решите задачу на примере массива a = np.arange(16).reshape(4, 4), в результате должен получиться словарь\n",
    "    # {0: [0],\n",
    "    #  1: [1, 4],\n",
    "    #  2: [2, 5, 8],\n",
    "    #  3: [3, 6, 9, 12],\n",
    "    #  4: [7, 10, 13],\n",
    "    #  5: [11, 14],\n",
    "    #  6: [15]}.\n",
    "\n",
    "a = np.arange(16).reshape(4, 4)\n",
    "print(a)\n",
    "# 1\n",
    "num_diag = a.shape[1] + a.shape[0] - 1\n",
    "res = {i: [] for i in range(num_diag)}\n",
    "for i in range(a.shape[1]):\n",
    "    for k, j in zip(range(i + 1), range(i, -1, -1)):\n",
    "        res[i].append(a[k, j])\n",
    "        if i != num_diag // 2:\n",
    "            res[num_diag - i - 1].insert(0, a[len(a) - k - 1, a.shape[1] - j - 1])\n",
    "res"
   ]
  },
  {
   "cell_type": "code",
   "execution_count": 782,
   "id": "81b8676f-9ff4-4a82-97b0-20027b9accab",
   "metadata": {},
   "outputs": [
    {
     "data": {
      "text/plain": [
       "{6: array([15]),\n",
       " 5: array([11, 14]),\n",
       " 4: array([ 7, 10, 13]),\n",
       " 3: array([ 3,  6,  9, 12]),\n",
       " 2: array([2, 5, 8]),\n",
       " 1: array([1, 4]),\n",
       " 0: array([0])}"
      ]
     },
     "execution_count": 782,
     "metadata": {},
     "output_type": "execute_result"
    }
   ],
   "source": [
    "# 2\n",
    "a_rotated = np.fliplr(a)\n",
    "res = {a.shape[1] - i - 1: a_rotated.diagonal(i) for i in range(-a.shape[1] + 1, a.shape[1])}\n",
    "res"
   ]
  },
  {
   "cell_type": "code",
   "execution_count": 783,
   "id": "763a2cf6-38b0-4186-b298-158dfb1a92fd",
   "metadata": {},
   "outputs": [],
   "source": [
    "a = np.arange(1024).reshape(32, 32)"
   ]
  },
  {
   "cell_type": "code",
   "execution_count": 784,
   "id": "68f4f737-fb5c-4efa-8a98-e0281678ee7e",
   "metadata": {},
   "outputs": [
    {
     "name": "stdout",
     "output_type": "stream",
     "text": [
      "365 µs ± 3.69 µs per loop (mean ± std. dev. of 7 runs, 1000 loops each)\n"
     ]
    }
   ],
   "source": [
    "%%timeit\n",
    "num_diag = a.shape[1] + a.shape[0] - 1\n",
    "res = {i: [] for i in range(num_diag)}\n",
    "for i in range(a.shape[1]):\n",
    "    for k, j in zip(range(i + 1), range(i, -1, -1)):\n",
    "        res[i].append(a[k, j])\n",
    "        if i != num_diag // 2:\n",
    "            res[num_diag - i - 1].insert(0, a[len(a) - k - 1, a.shape[1] - j - 1])"
   ]
  },
  {
   "cell_type": "code",
   "execution_count": 785,
   "id": "6b9b6375-967b-4bb2-af0d-91e0da20f592",
   "metadata": {},
   "outputs": [
    {
     "name": "stdout",
     "output_type": "stream",
     "text": [
      "25.1 µs ± 186 ns per loop (mean ± std. dev. of 7 runs, 10000 loops each)\n"
     ]
    }
   ],
   "source": [
    "%%timeit\n",
    "a_rotated = np.fliplr(a)\n",
    "res = {a.shape[1] - i - 1: a_rotated.diagonal(i) for i in range(-a.shape[1] + 1, a.shape[1])}"
   ]
  }
 ],
 "metadata": {
  "kernelspec": {
   "display_name": "Python 3 (ipykernel)",
   "language": "python",
   "name": "python3"
  },
  "language_info": {
   "codemirror_mode": {
    "name": "ipython",
    "version": 3
   },
   "file_extension": ".py",
   "mimetype": "text/x-python",
   "name": "python",
   "nbconvert_exporter": "python",
   "pygments_lexer": "ipython3",
   "version": "3.8.10"
  }
 },
 "nbformat": 4,
 "nbformat_minor": 5
}
