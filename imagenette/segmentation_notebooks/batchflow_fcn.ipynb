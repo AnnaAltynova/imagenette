{
 "cells": [
  {
   "cell_type": "code",
   "execution_count": 1,
   "id": "feb42c0c-c9e1-4b34-b104-5cb8a6adb543",
   "metadata": {},
   "outputs": [
    {
     "name": "stdout",
     "output_type": "stream",
     "text": [
      "env: CUDA_VISIBLE_DEVICES=2\n"
     ]
    }
   ],
   "source": [
    "%env CUDA_VISIBLE_DEVICES = 2\n",
    "%load_ext autoreload"
   ]
  },
  {
   "cell_type": "code",
   "execution_count": 2,
   "id": "706e687c-e3a8-480f-8800-b98217fc1539",
   "metadata": {},
   "outputs": [],
   "source": [
    "import numpy as np\n",
    "import pandas as pd\n",
    "import matplotlib.pyplot as plt\n",
    "import torch\n",
    "import torch.nn as nn\n",
    "import torch.optim as optim\n",
    "from torch.utils.data import DataLoader\n",
    "import torchvision.transforms as T\n",
    "\n",
    "from batchflow.models.torch import *\n",
    "\n",
    "import models\n",
    "from utils import train_procedure, AdeDataset, get_ade_transforms, load_model\n",
    "\n",
    "from IPython.display import clear_output\n",
    "import matplotlib.pyplot as plt\n",
    "plt.style.use('ggplot')\n",
    "\n",
    "%matplotlib inline\n",
    "%autoreload 2"
   ]
  },
  {
   "cell_type": "code",
   "execution_count": 3,
   "id": "0cd64b3d-6eff-4364-8fa3-a2c00cd8e867",
   "metadata": {},
   "outputs": [],
   "source": [
    "SAVES_PATH = \"saves\"\n",
    "device = torch.device('cuda')\n",
    "batch_size = 16\n",
    "CHECK_PARAMETERS = False\n",
    "use_pretrained_encoder = True \n",
    "encoder_ckpt_path = 'saves/ckpts3/densenet_staged_large_model.pt'"
   ]
  },
  {
   "cell_type": "code",
   "execution_count": 4,
   "id": "3ab134ac-c499-4cc8-81b8-321d957a5ec4",
   "metadata": {},
   "outputs": [],
   "source": [
    "transform = get_ade_transforms(resize=256)\n",
    "train_dataset = AdeDataset(transform=transform, mode='training', )\n",
    "val_dataset = AdeDataset(transform=transform, mode='validation')\n",
    "\n",
    "train_dataloader = DataLoader(dataset=train_dataset, batch_size=batch_size, shuffle=True) \n",
    "val_dataloader = DataLoader(dataset=val_dataset, batch_size=batch_size, shuffle=True) "
   ]
  },
  {
   "cell_type": "code",
   "execution_count": 5,
   "id": "d9cabaaa-f383-4cec-81e6-a38069ddcd38",
   "metadata": {},
   "outputs": [],
   "source": [
    "densenet = models.DenseNet(k_factor=32, num_units_collection=(6, 12, 24, 16))\n",
    "if use_pretrained_encoder:\n",
    "    _ = load_model(model=densenet, ckpt_path=encoder_ckpt_path)\n",
    "densenet.layers['head'] = nn.Identity()"
   ]
  },
  {
   "cell_type": "code",
   "execution_count": 6,
   "id": "b3f2a77e-c4bc-4a85-9632-027bf0914163",
   "metadata": {},
   "outputs": [
    {
     "name": "stdout",
     "output_type": "stream",
     "text": [
      "Network(\n",
      "    (encoder:  (?,   3, 256, 256)  ⟶ [(?, 128,  32,  32),\n",
      "                                       (?, 256,  16,  16),\n",
      "                                       (?, 512,   8,   8),\n",
      "                                       (?, 1024,   8,   8),\n",
      "                                       (?, 1024,   8,   8)])\n",
      "    (decoder): DecoderModule(\n",
      "        (combine-0: [(?, 1024,   8,   8),\n",
      "                     (?, 512,   8,   8)] ⟶ (?, 1536,   8,   8))\n",
      "        (block-0:    (?, 1536,   8,   8)  ⟶ (?, 1536,  16,  16))\n",
      "        (combine-1: [(?, 1536,  16,  16),\n",
      "                     (?, 256,  16,  16)] ⟶ (?, 1792,  16,  16))\n",
      "        (block-1:    (?, 1792,  16,  16)  ⟶ (?, 1792,  32,  32))\n",
      "    )\n",
      "    (head:     (?, 1792,  32,  32)  ⟶ (?, 151, 256, 256))\n",
      ")\n"
     ]
    }
   ],
   "source": [
    "config = {\n",
    "    'inputs_shapes': (3, 256, 256),\n",
    "    \n",
    "    'order': ['encoder', 'decoder', 'head'],\n",
    "    \n",
    "    'encoder': {'type': 'wrapper', 'module': densenet}, \n",
    "    \n",
    "    'decoder': {\n",
    "        'skip': True,\n",
    "        'indices':  [2, 1],\n",
    "        'type': 'decoder',\n",
    "        'num_stages': 2,\n",
    "        'order': ['combine', 'block'], # omitted last combine\n",
    "        'blocks': {'layout': 'nat', 'channels': [1024 + 512, 1024 + 512 + 256],\n",
    "                   'kernel_size': 2, \n",
    "                   'stride': 2,\n",
    "                  },\n",
    "        'combine': {'op': 'concat', 'force_resize': False}, # leading_index check, IoU\n",
    "    },\n",
    "    'head': {\n",
    "        'layout': 'nac d nat', 'channels': 151, 'kernel_size': [1, 8], 'stride': [1, 8], 'p': 0.5, 'bias': True\n",
    "    },\n",
    "    \n",
    "    'loss': 'ce', \n",
    "    'device': 'gpu:0',\n",
    "}\n",
    "\n",
    "batchflow_model = TorchModel(config)\n",
    "batchflow_model.repr(2)"
   ]
  },
  {
   "cell_type": "code",
   "execution_count": 7,
   "id": "ac424f3f-52ff-4b12-a07b-6b85dadb051e",
   "metadata": {},
   "outputs": [],
   "source": [
    "if CHECK_PARAMETERS:\n",
    "    my_model = models.FCN(num_classes=151, k_factor=32, num_units_collection=(6, 12, 24, 16), pretrained=False)\n",
    "\n",
    "    torch_model_params = sum(p.numel() for p in my_model.parameters() if p.requires_grad)\n",
    "    batchflow_model_params = sum(p.numel() for p in batchflow_model.model.parameters() if p.requires_grad)\n",
    "    del my_model\n",
    "\n",
    "    print(f'batchflow #params: {batchflow_model_params}, torch #params: {torch_model_params}')"
   ]
  },
  {
   "cell_type": "code",
   "execution_count": 8,
   "id": "6d35f4c6-b5b0-43c0-ab0b-043c825eb427",
   "metadata": {},
   "outputs": [],
   "source": [
    "N_EPOCHS = 30\n",
    "RESUME_TRAINING = False\n",
    "\n",
    "model_name = 'batchflow_fcn_concat'\n",
    "epoch = 0\n",
    "\n",
    "loss = nn.CrossEntropyLoss()\n",
    "optimizer = optim.Adam(batchflow_model.model.parameters(), lr=1e-5)\n",
    "\n",
    "if RESUME_TRAINING:\n",
    "    epoch = load_model(batchflow_model.model, optimizer=optimizer, device=device, ckpt_path=os.path.join(SAVES_PATH, f'ckpts3/{model_name}_model.pt'))\n",
    "\n",
    "scheduler = optim.lr_scheduler.ReduceLROnPlateau(optimizer, mode='min', patience=5, min_lr=1e-8)"
   ]
  },
  {
   "cell_type": "code",
   "execution_count": null,
   "id": "d17fbb7f-2777-42b8-afe3-d856e519b9ce",
   "metadata": {},
   "outputs": [
    {
     "data": {
      "image/png": "[encoded data removed]",
      "text/plain": [
       "<Figure size 1296x576 with 3 Axes>"
      ]
     },
     "metadata": {
      "needs_background": "light"
     },
     "output_type": "display_data"
    }
   ],
   "source": [
    "train_procedure(n_epochs=N_EPOCHS, model=batchflow_model.model, train_iterator=train_dataloader, \n",
    "                val_iterator=val_dataloader, optimizer=optimizer,\n",
    "                criterion=loss, saves_path=SAVES_PATH, start_epoch=epoch, \n",
    "                device=device, scheduler=scheduler, model_name=model_name,\n",
    "               segmentation=True)"
   ]
  },
  {
   "cell_type": "code",
   "execution_count": null,
   "id": "bf66e765-a73c-4e95-9cf4-30cd89823e5f",
   "metadata": {},
   "outputs": [],
   "source": [
    "mean=[125, 119, 110]\n",
    "std=[57, 57, 61]\n",
    "\n",
    "renorm = T.Compose(\n",
    "    [T.Normalize(mean=(0,0,0), std = 1. / np.array(std)),\n",
    "     T.Normalize(mean=-np.array(mean), std=(1., 1., 1.)), \n",
    "     T.ToPILImage(mode='RGB')])\n",
    "\n",
    "imgs, targets = next(iter(val_dataloader))\n",
    "img = imgs[0, ...]\n",
    "trg = targets[0, ...]\n",
    "\n",
    "batchflow_model.model.eval()\n",
    "with torch.no_grad():\n",
    "    outputs = batchflow_model.model(imgs.to(device))\n",
    "    outputs = outputs.detach().cpu()\n",
    "    out = outputs[0, ...].argmax(axis=0)\n",
    "\n",
    "img.shape, trg.shape\n",
    "fig, (ax1, ax2, ax3) = plt.subplots(1, 3, figsize=(10, 15))\n",
    "ax1.imshow(renorm(img))\n",
    "ax2.imshow(trg)\n",
    "ax3.imshow(out)"
   ]
  },
  {
   "cell_type": "code",
   "execution_count": null,
   "id": "d19b7acd-68fe-4785-b04b-f1e087cbe44b",
   "metadata": {},
   "outputs": [],
   "source": []
  }
 ],
 "metadata": {
  "kernelspec": {
   "display_name": "Python 3 (ipykernel)",
   "language": "python",
   "name": "python3"
  },
  "language_info": {
   "codemirror_mode": {
    "name": "ipython",
    "version": 3
   },
   "file_extension": ".py",
   "mimetype": "text/x-python",
   "name": "python",
   "nbconvert_exporter": "python",
   "pygments_lexer": "ipython3",
   "version": "3.8.10"
  }
 },
 "nbformat": 4,
 "nbformat_minor": 5
}
