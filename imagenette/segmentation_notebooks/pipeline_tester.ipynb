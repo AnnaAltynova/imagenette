{
 "cells": [
  {
   "cell_type": "code",
   "execution_count": 3,
   "id": "404ec792-308f-46e2-a052-138f2158e711",
   "metadata": {},
   "outputs": [
    {
     "name": "stdout",
     "output_type": "stream",
     "text": [
      "The autoreload extension is already loaded. To reload it, use:\n",
      "  %reload_ext autoreload\n",
      "env: CUDA_VISIBLE_DEVICES=0\n"
     ]
    }
   ],
   "source": [
    "%load_ext autoreload\n",
    "%autoreload 2\n",
    "%env CUDA_VISIBLE_DEVICES = 0\n",
    "\n",
    "\n",
    "from batchflow import *\n",
    "# from batchflow.named_expr\n",
    "from batchflow.opensets import *\n",
    "from batchflow.models.torch import *\n",
    "from batchflow.models.torch.layers import *\n",
    "from load_segment_dataset import Segmentation_dataset\n",
    "from torch.optim import Adam\n",
    "import torch\n",
    "from model_learning import Train\n",
    "import torch.nn.functional as F"
   ]
  },
  {
   "cell_type": "code",
   "execution_count": 4,
   "id": "55ebd0d6-af23-401e-9e6f-a4d2a288ecb9",
   "metadata": {},
   "outputs": [],
   "source": [
    "mnist = MNIST()"
   ]
  },
  {
   "cell_type": "code",
   "execution_count": 6,
   "id": "d9cc76d2-d5af-4596-a874-0be07e1adfc1",
   "metadata": {},
   "outputs": [
    {
     "data": {
      "text/plain": [
       "<batchflow.batchflow.pipeline.Pipeline at 0x7fa5fa2c3cd0>"
      ]
     },
     "execution_count": 6,
     "metadata": {},
     "output_type": "execute_result"
    }
   ],
   "source": [
    "mnist.p"
   ]
  },
  {
   "cell_type": "code",
   "execution_count": 104,
   "id": "eb14e859-2ac9-4894-9e1a-20f2dd85b24b",
   "metadata": {},
   "outputs": [],
   "source": [
    "ppl = Pipeline() << Dataset(100)\n",
    "ppl = mnist.p"
   ]
  },
  {
   "cell_type": "code",
   "execution_count": 105,
   "id": "d9c42864-790e-433e-8098-87c709dafba6",
   "metadata": {},
   "outputs": [],
   "source": [
    "def foo(batch, iteration):\n",
    "    print(f'{id(batch)} ::: indices={batch.indices} ::: {iteration=}')\n",
    "    \n",
    "    images, labels = next(dataloader)\n",
    "    # images = [dataloader[i][0] for i in batch.indices]\n",
    "    batch.images = images\n",
    "    \n",
    "\n",
    "ppl += (Pipeline()\n",
    "        # .foo(B(), iteration=I())\n",
    "        .to_array(src=B.images, dst='images', channels='first', dtype='float32')\n",
    "        # .multiply(src='images', dst='images', multiplier=1/255., preserve_type=False)\n",
    ")"
   ]
  },
  {
   "cell_type": "code",
   "execution_count": 100,
   "id": "5ca74746-654b-4783-b029-fcd7a955f6a2",
   "metadata": {},
   "outputs": [
    {
     "name": "stdout",
     "output_type": "stream",
     "text": [
      "140350429343504 ::: indices=[73 15 60 37] ::: iteration=1\n"
     ]
    }
   ],
   "source": [
    "batch = ppl.next_batch(batch_size=4, shuffle=True)"
   ]
  },
  {
   "cell_type": "code",
   "execution_count": 43,
   "id": "6d29b103-db1d-4b74-8cf7-9445fa16370a",
   "metadata": {},
   "outputs": [
    {
     "data": {
      "text/plain": [
       "(array([<PIL.Image.Image image mode=L size=28x28 at 0x7FA5E2C41280>,\n",
       "        <PIL.Image.Image image mode=L size=28x28 at 0x7FA5E3B5B8B0>,\n",
       "        <PIL.Image.Image image mode=L size=28x28 at 0x7FA5E30B6CA0>,\n",
       "        <PIL.Image.Image image mode=L size=28x28 at 0x7FA5E32C10D0>],\n",
       "       dtype=object),\n",
       " array([9, 7, 0, 5], dtype=uint8))"
      ]
     },
     "execution_count": 43,
     "metadata": {},
     "output_type": "execute_result"
    }
   ],
   "source": [
    "batch.images, batch.labels"
   ]
  },
  {
   "cell_type": "code",
   "execution_count": 30,
   "id": "9b031383-4cf4-48b8-aaef-f97a3b2f4482",
   "metadata": {},
   "outputs": [
    {
     "data": {
      "text/plain": [
       "array([6, 8, 7, 4])"
      ]
     },
     "execution_count": 30,
     "metadata": {},
     "output_type": "execute_result"
    }
   ],
   "source": [
    "batch.index.index"
   ]
  },
  {
   "cell_type": "code",
   "execution_count": 108,
   "id": "ee818b57-9e4b-4878-b43e-dd5fae023182",
   "metadata": {},
   "outputs": [
    {
     "name": "stdout",
     "output_type": "stream",
     "text": [
      "100%|\u001b[38;2;76;175;80m██████████████████████████████████████\u001b[0m| 1000/1000 [00:01<00:00, 698.12it/s]\u001b[0m\n"
     ]
    },
    {
     "data": {
      "text/plain": [
       "<batchflow.batchflow.pipeline.Pipeline at 0x7fa5e17c5550>"
      ]
     },
     "execution_count": 108,
     "metadata": {},
     "output_type": "execute_result"
    }
   ],
   "source": [
    "ppl.run(n_iters=1000, batch_size=10, notifier='t')"
   ]
  },
  {
   "cell_type": "code",
   "execution_count": 46,
   "id": "aad36fd8-7a91-458c-bdbf-a4cddb9e42b8",
   "metadata": {},
   "outputs": [
    {
     "name": "stdout",
     "output_type": "stream",
     "text": [
      "140350842931136 ::: indices=[0 1 2 3]\n",
      "140350842929696 ::: indices=[4 5 6 7]\n",
      "140350448185200 ::: indices=[ 8  9 10 11]\n",
      "140350448181600 ::: indices=[12 13 14 15]\n",
      "140350842930032 ::: indices=[16 17 18 19]\n",
      "140350448181456 ::: indices=[20 21 22 23]\n",
      "140350842931136 ::: indices=[24 25 26 27]\n",
      "140350448181600 ::: indices=[28 29 30 31]\n",
      "140350842929648 ::: indices=[32 33 34 35]\n",
      "140350448181456 ::: indices=[36 37 38 39]\n"
     ]
    }
   ],
   "source": [
    "for batch in ppl.gen_batch(n_iters=10, batch_size=4):\n",
    "    #some actions"
   ]
  },
  {
   "cell_type": "code",
   "execution_count": 11,
   "id": "b7cb153a-d432-4a19-80c2-b347164ae124",
   "metadata": {},
   "outputs": [
    {
     "data": {
      "text/plain": [
       "<batchflow.opensets.mnist.MNIST at 0x7fa5fa39c430>"
      ]
     },
     "execution_count": 11,
     "metadata": {},
     "output_type": "execute_result"
    }
   ],
   "source": [
    "ppl.dataset"
   ]
  },
  {
   "cell_type": "code",
   "execution_count": null,
   "id": "3e67baa4-839e-46e8-8644-2c0f88942dd8",
   "metadata": {},
   "outputs": [],
   "source": [
    "for images, labels in dataloader:\n",
    "    ###\n",
    "    batchflow_model.train(...)"
   ]
  },
  {
   "cell_type": "code",
   "execution_count": null,
   "id": "ad06e95b-ca34-432d-8f6d-d7a6d7cab6a0",
   "metadata": {},
   "outputs": [],
   "source": []
  },
  {
   "cell_type": "code",
   "execution_count": null,
   "id": "0383c961-b16a-49ec-9f34-454d5d8db518",
   "metadata": {},
   "outputs": [],
   "source": []
  },
  {
   "cell_type": "code",
   "execution_count": null,
   "id": "c5cb59f4-9a42-4e22-bcc1-3fc540b86736",
   "metadata": {},
   "outputs": [],
   "source": []
  },
  {
   "cell_type": "code",
   "execution_count": null,
   "id": "873f87e5-748d-4d64-a331-8e81040628e4",
   "metadata": {},
   "outputs": [],
   "source": []
  },
  {
   "cell_type": "code",
   "execution_count": null,
   "id": "2e70899a-a124-4ae0-aa2f-0bbec379bee8",
   "metadata": {},
   "outputs": [],
   "source": []
  },
  {
   "cell_type": "code",
   "execution_count": null,
   "id": "84d05f8d-c3c7-4178-9aa8-b428f4c6fc40",
   "metadata": {},
   "outputs": [],
   "source": [
    "DEVICE = 'cuda:0'"
   ]
  },
  {
   "cell_type": "code",
   "execution_count": null,
   "id": "325fa356-7f49-4083-823b-3ebb724c80e1",
   "metadata": {},
   "outputs": [],
   "source": [
    "config = { 'inputs_shapes': (3, 256, 256),     \n",
    "    'order': ['encoder', 'embedding', 'decoder', 'head'], \n",
    "\n",
    "    'encoder': {              \n",
    "        'type': 'encoder',                                                   \n",
    "        'num_stages': 4,  \n",
    "        'order':['blocks', 'skip', 'downsample'],   \n",
    "        'blocks':{'layout':'cna cna', 'channels':[64, 128, 256, 512]},   \n",
    "        'downsample': {'layout': 'p', 'pool_size': 2, 'pool_stride': 2},\n",
    "    },\n",
    "    'embedding': {   \n",
    "        'layout': 'cna cna',\n",
    "        'channels': [1024, 1024], \n",
    "        'input_type': 'list',  \n",
    "        'output_type': 'list',\n",
    "        'input_index': -1,\n",
    "    },\n",
    "    'decoder': {\n",
    "        'order':['upsample', 'combine', 'blocks'],\n",
    "        'type': 'decoder',           \n",
    "        'num_stages': 4,\n",
    "        'blocks':{'layout':'cna cna', 'channels':['same // 2', 'same']},                                                     \n",
    "        'upsample': {'layout': 't', 'kernel_size': 2, 'channels':'same // 2'},  \n",
    "        'combine': {'op': 'concat'},   },             \n",
    "        \n",
    "    'head': {                     \n",
    "        'layout': 'c', \n",
    "        'channels': 151,\n",
    "        'kernel_size':1},\n",
    "    'loss': 'ce',\n",
    "    'device': DEVICE\n",
    "    \n",
    "}"
   ]
  },
  {
   "cell_type": "code",
   "execution_count": null,
   "id": "ad2195a3-aa3e-4151-ac04-e7a8dc19bfe1",
   "metadata": {},
   "outputs": [],
   "source": [
    "def get_segmentation_config(model_class, config):\n",
    "\n",
    "    if 'inputs_shapes' in config and isinstance(config['inputs_shapes'], list):\n",
    "        inputs = [B.images for item in config['inputs_shapes']]\n",
    "    else:\n",
    "        inputs = B.images ## B\n",
    "    \n",
    "    pipeline_config = {\n",
    "        'model': model_class,\n",
    "        'model_config': {**config},\n",
    "        'inputs': inputs,\n",
    "        'targets': B.images,\n",
    "\n",
    "        'gather': {'metrics_class' : 'segmentation',  # gather\n",
    "                   'fmt' : 'proba',                   # fmt: proba\n",
    "                   \n",
    "                   'axis' : None,\n",
    "                   'targets' : B.images},\n",
    "        'evaluate': 'jaccard',\n",
    "    }\n",
    "    return pipeline_config"
   ]
  },
  {
   "cell_type": "code",
   "execution_count": null,
   "id": "14937af7-56b4-4ac3-aaf6-a59136b5ad0c",
   "metadata": {},
   "outputs": [],
   "source": [
    "def get_pipeline(pipeline_config):\n",
    "    \"\"\" Pipeline config must contain 'model', 'model_config', 'feed_dict' keys. \"\"\"\n",
    "    pipeline = (Pipeline(config=pipeline_config)\n",
    "                .init_variable('loss_history', [])\n",
    "                .to_array(channels='first', dtype='float32')\n",
    "                .multiply(multiplier=1/255., preserve_type=False)\n",
    "                .init_model(name='MODEL', model_class=C('model'), config=C('model_config'))\n",
    "                .train_model('MODEL',\n",
    "                             inputs=B.images,\n",
    "                             targets=B.masks,\n",
    "                             outputs='loss',\n",
    "                             save_to=V('loss_history', mode='a'))\n",
    "                )\n",
    "    return pipeline"
   ]
  },
  {
   "cell_type": "code",
   "execution_count": null,
   "id": "8d943dd6-b6e2-4cf7-a90d-5e243e57df46",
   "metadata": {},
   "outputs": [],
   "source": [
    "def run(model_class, config, batch_size=BATCH_SIZE, n_iters=N_ITERS, **kwargs):\n",
    "    pipeline_config = get_segmentation_config(model_class, config)\n",
    "\n",
    "    train_pipeline = get_pipeline(pipeline_config) << mnist.train   #\n",
    "    _ = train_pipeline.run(batch_size, n_iters=n_iters,\n",
    "                           bar={'bar': BAR, 'monitors': 'loss_history'},\n",
    "                           **kwargs)\n",
    "    \n",
    "    print(f'Segmentation Unet is done! Number of parameters in the model: {train_pipeline.model.num_parameters:,}')\n",
    "    return train_pipeline"
   ]
  },
  {
   "cell_type": "code",
   "execution_count": null,
   "id": "1bde717d-ab27-43b9-a640-a1bc3f0f12b4",
   "metadata": {},
   "outputs": [],
   "source": [
    "ppl = run(model_class=TorchModel, config=config, n_iters=2, batch_size=4)"
   ]
  }
 ],
 "metadata": {
  "kernelspec": {
   "display_name": "Python 3 (ipykernel)",
   "language": "python",
   "name": "python3"
  },
  "language_info": {
   "codemirror_mode": {
    "name": "ipython",
    "version": 3
   },
   "file_extension": ".py",
   "mimetype": "text/x-python",
   "name": "python",
   "nbconvert_exporter": "python",
   "pygments_lexer": "ipython3",
   "version": "3.8.10"
  }
 },
 "nbformat": 4,
 "nbformat_minor": 5
}
