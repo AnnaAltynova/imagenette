{
 "cells": [
  {
   "cell_type": "code",
   "execution_count": 1,
   "id": "bc8d34e8-5140-4679-b3cf-f1ae66a1a1e1",
   "metadata": {},
   "outputs": [],
   "source": [
    "%load_ext autoreload"
   ]
  },
  {
   "cell_type": "code",
   "execution_count": 2,
   "id": "028b236b-3f58-42ff-9798-afcb4fb99349",
   "metadata": {},
   "outputs": [],
   "source": [
    "import torch \n",
    "import numpy as np\n",
    "\n",
    "from pixel_shuffle import pixel_shuffle, pixel_unshuffle\n",
    "\n",
    "%autoreload 2"
   ]
  },
  {
   "cell_type": "code",
   "execution_count": 14,
   "id": "8779e36f-b11b-4d28-ad14-0b8250b8a930",
   "metadata": {},
   "outputs": [],
   "source": [
    "# sanity check \n",
    "inputs = torch.randn(1, 64, 2, 3, 6)\n",
    "factor = 4"
   ]
  },
  {
   "cell_type": "code",
   "execution_count": 15,
   "id": "0ca9bfa0-1af7-45f6-8abd-2c5fc3ec1e0e",
   "metadata": {},
   "outputs": [
    {
     "name": "stdout",
     "output_type": "stream",
     "text": [
      "inputs shape:  torch.Size([1, 64, 2, 3, 6])\n",
      "shuffled shape:  torch.Size([1, 1, 8, 12, 24])\n",
      "unshuffled shape:  torch.Size([1, 64, 2, 3, 6])\n"
     ]
    }
   ],
   "source": [
    "print('inputs shape: ', inputs.size())\n",
    "shuffled = pixel_shuffle(inputs, factor)\n",
    "print('shuffled shape: ', shuffled.size())\n",
    "unshuffled = pixel_unshuffle(shuffled, factor)\n",
    "print('unshuffled shape: ', unshuffled.size())\n",
    "\n",
    "assert np.all(unshuffled.numpy() == inputs.numpy())"
   ]
  },
  {
   "cell_type": "code",
   "execution_count": null,
   "id": "a4016753-e44e-4d65-8c27-6ed1d1b3e74d",
   "metadata": {},
   "outputs": [],
   "source": [
    "# torch test \n",
    "inputs = torch.randn(1, 64, 2, 3)\n",
    "factor = 4"
   ]
  },
  {
   "cell_type": "code",
   "execution_count": 12,
   "id": "22c1785c-4cbf-43d5-aa0a-10f4ffd8dfd9",
   "metadata": {},
   "outputs": [
    {
     "data": {
      "text/plain": [
       "(torch.Size([1, 4, 8, 12]), torch.Size([1, 64, 2, 3]))"
      ]
     },
     "execution_count": 12,
     "metadata": {},
     "output_type": "execute_result"
    }
   ],
   "source": [
    "shuffled = pixel_shuffle(inputs, factor)\n",
    "unshuffled = pixel_unshuffle(shuffled, factor)\n",
    "\n",
    "torch_shuffled = torch.nn.functional.pixel_shuffle(inputs, factor)\n",
    "torch_unshuffled = torch.nn.functional.pixel_unshuffle(torch_shuffled, factor)\n",
    "\n",
    "assert np.all(unshuffled.numpy() == torch_unshuffled.numpy()) "
   ]
  },
  {
   "cell_type": "code",
   "execution_count": 20,
   "id": "8bf9b9e0-718f-4cde-8857-6a5058ccdd63",
   "metadata": {},
   "outputs": [
    {
     "ename": "AssertionError",
     "evalue": "",
     "output_type": "error",
     "traceback": [
      "\u001b[0;31m---------------------------------------------------------------------------\u001b[0m",
      "\u001b[0;31mAssertionError\u001b[0m                            Traceback (most recent call last)",
      "\u001b[0;32m/tmp/ipykernel_51832/2867531208.py\u001b[0m in \u001b[0;36m<module>\u001b[0;34m\u001b[0m\n\u001b[1;32m      4\u001b[0m \u001b[0;34m\u001b[0m\u001b[0m\n\u001b[1;32m      5\u001b[0m \u001b[0;32massert\u001b[0m \u001b[0mreshaped\u001b[0m\u001b[0;34m.\u001b[0m\u001b[0mshape\u001b[0m \u001b[0;34m==\u001b[0m \u001b[0mshuffled\u001b[0m\u001b[0;34m.\u001b[0m\u001b[0mshape\u001b[0m\u001b[0;34m\u001b[0m\u001b[0;34m\u001b[0m\u001b[0m\n\u001b[0;32m----> 6\u001b[0;31m \u001b[0;32massert\u001b[0m \u001b[0mnp\u001b[0m\u001b[0;34m.\u001b[0m\u001b[0mall\u001b[0m\u001b[0;34m(\u001b[0m\u001b[0mreshaped\u001b[0m\u001b[0;34m.\u001b[0m\u001b[0mnumpy\u001b[0m\u001b[0;34m(\u001b[0m\u001b[0;34m)\u001b[0m \u001b[0;34m==\u001b[0m \u001b[0mshuffled\u001b[0m\u001b[0;34m.\u001b[0m\u001b[0mnumpy\u001b[0m\u001b[0;34m(\u001b[0m\u001b[0;34m)\u001b[0m\u001b[0;34m)\u001b[0m\u001b[0;34m\u001b[0m\u001b[0;34m\u001b[0m\u001b[0m\n\u001b[0m",
      "\u001b[0;31mAssertionError\u001b[0m: "
     ]
    }
   ],
   "source": [
    "# reshape test \n",
    "inputs = torch.randn(1, 4, 2)\n",
    "reshaped = inputs.reshape(1, 1, 8)\n",
    "shuffled = pixel_shuffle(inputs, 4)\n",
    "\n",
    "assert reshaped.shape == shuffled.shape\n",
    "assert np.all(reshaped.numpy() == shuffled.numpy())"
   ]
  },
  {
   "cell_type": "code",
   "execution_count": 27,
   "id": "924f22ee-df39-4c4b-b4c2-a24dacb30056",
   "metadata": {},
   "outputs": [
    {
     "name": "stdout",
     "output_type": "stream",
     "text": [
      "input:\n",
      "  tensor([[[0., 0.],\n",
      "         [0., 0.]],\n",
      "\n",
      "        [[1., 1.],\n",
      "         [1., 1.]],\n",
      "\n",
      "        [[2., 2.],\n",
      "         [2., 2.]],\n",
      "\n",
      "        [[3., 3.],\n",
      "         [3., 3.]]])\n",
      "reshape:\n",
      "  tensor([[[0., 0., 0., 0.],\n",
      "         [1., 1., 1., 1.],\n",
      "         [2., 2., 2., 2.],\n",
      "         [3., 3., 3., 3.]]])\n",
      "shuffle:\n",
      "  tensor([[[0., 1., 0., 1.],\n",
      "         [2., 3., 2., 3.],\n",
      "         [0., 1., 0., 1.],\n",
      "         [2., 3., 2., 3.]]])\n"
     ]
    }
   ],
   "source": [
    "inputs = torch.ones(1, 4, 2, 2)\n",
    "inputs[:, 0, :] = 0\n",
    "inputs[:, 1, :] = 1\n",
    "inputs[:, 2, :] = 2\n",
    "inputs[:, 3, :] = 3\n",
    "print('input:\\n ', inputs[0])\n",
    "print('reshape:\\n ', inputs.reshape(1, 1, 4, 4)[0])\n",
    "print('shuffle:\\n ', pixel_shuffle(inputs, 2)[0])"
   ]
  }
 ],
 "metadata": {
  "kernelspec": {
   "display_name": "Python 3 (ipykernel)",
   "language": "python",
   "name": "python3"
  },
  "language_info": {
   "codemirror_mode": {
    "name": "ipython",
    "version": 3
   },
   "file_extension": ".py",
   "mimetype": "text/x-python",
   "name": "python",
   "nbconvert_exporter": "python",
   "pygments_lexer": "ipython3",
   "version": "3.8.10"
  }
 },
 "nbformat": 4,
 "nbformat_minor": 5
}
