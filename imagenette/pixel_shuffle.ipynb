{
 "cells": [
  {
   "cell_type": "code",
   "execution_count": 1,
   "id": "bc8d34e8-5140-4679-b3cf-f1ae66a1a1e1",
   "metadata": {},
   "outputs": [],
   "source": [
    "%load_ext autoreload"
   ]
  },
  {
   "cell_type": "code",
   "execution_count": 2,
   "id": "028b236b-3f58-42ff-9798-afcb4fb99349",
   "metadata": {},
   "outputs": [],
   "source": [
    "import torch \n",
    "import numpy as np\n",
    "import random\n",
    "\n",
    "from pixel_shuffle import PixelShuffle, PixelUnshuffle\n",
    "\n",
    "%autoreload 2"
   ]
  },
  {
   "cell_type": "code",
   "execution_count": 3,
   "id": "df537de9-a4f4-4f25-a1f6-e71e37f5ebbf",
   "metadata": {},
   "outputs": [],
   "source": [
    "batch_size = 3"
   ]
  },
  {
   "cell_type": "code",
   "execution_count": 4,
   "id": "79686377-551d-408e-ae86-b07a8613517e",
   "metadata": {},
   "outputs": [],
   "source": [
    "# sanity check \n",
    "for _ in range(10):\n",
    "    for n in range(1, 6):\n",
    "        ps = PixelShuffle(n)\n",
    "        pu = PixelUnshuffle(n)\n",
    "        for k in range(1, 6):\n",
    "            inputs = torch.randn(batch_size, n**k, *np.random.choice(range(1, 10), size=k))\n",
    "            shuffled = ps(inputs)\n",
    "            unshuffled = pu(shuffled)\n",
    "            assert np.all(inputs.numpy() == unshuffled.numpy())"
   ]
  },
  {
   "cell_type": "code",
   "execution_count": 5,
   "id": "22c1785c-4cbf-43d5-aa0a-10f4ffd8dfd9",
   "metadata": {},
   "outputs": [],
   "source": [
    "# torch_test\n",
    "for _ in range(10):\n",
    "    for n in range(1, 6):\n",
    "        ps = PixelShuffle(n)\n",
    "        pu = PixelUnshuffle(n)\n",
    "        k = 2\n",
    "        inputs = torch.randn(batch_size, n**k, *np.random.choice(range(1, 10), size=k))\n",
    "\n",
    "        shuffled = ps(inputs)\n",
    "        unshuffled = pu(shuffled)\n",
    "\n",
    "        torch_shuffled = torch.nn.functional.pixel_shuffle(inputs, n)\n",
    "        torch_unshuffled = torch.nn.functional.pixel_unshuffle(torch_shuffled, n)\n",
    "\n",
    "        assert np.all(shuffled.numpy() == torch_shuffled.numpy()) \n",
    "        assert np.all(unshuffled.numpy() == torch_unshuffled.numpy()) "
   ]
  }
 ],
 "metadata": {
  "kernelspec": {
   "display_name": "Python 3 (ipykernel)",
   "language": "python",
   "name": "python3"
  },
  "language_info": {
   "codemirror_mode": {
    "name": "ipython",
    "version": 3
   },
   "file_extension": ".py",
   "mimetype": "text/x-python",
   "name": "python",
   "nbconvert_exporter": "python",
   "pygments_lexer": "ipython3",
   "version": "3.8.10"
  }
 },
 "nbformat": 4,
 "nbformat_minor": 5
}
