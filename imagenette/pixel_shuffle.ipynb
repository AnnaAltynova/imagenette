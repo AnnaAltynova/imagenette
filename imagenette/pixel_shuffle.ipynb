{
 "cells": [
  {
   "cell_type": "code",
   "execution_count": 1,
   "id": "bc8d34e8-5140-4679-b3cf-f1ae66a1a1e1",
   "metadata": {},
   "outputs": [],
   "source": [
    "%load_ext autoreload"
   ]
  },
  {
   "cell_type": "code",
   "execution_count": 2,
   "id": "028b236b-3f58-42ff-9798-afcb4fb99349",
   "metadata": {},
   "outputs": [],
   "source": [
    "import torch \n",
    "import numpy as np\n",
    "\n",
    "from pixel_shuffle import pixel_shuffle, pixel_unshuffle\n",
    "\n",
    "%autoreload 2"
   ]
  },
  {
   "cell_type": "code",
   "execution_count": 3,
   "id": "8779e36f-b11b-4d28-ad14-0b8250b8a930",
   "metadata": {},
   "outputs": [],
   "source": [
    "inputs = torch.randn(1, 64, 2, 3, 4)\n",
    "factor = 4"
   ]
  },
  {
   "cell_type": "code",
   "execution_count": 4,
   "id": "0ca9bfa0-1af7-45f6-8abd-2c5fc3ec1e0e",
   "metadata": {},
   "outputs": [
    {
     "name": "stdout",
     "output_type": "stream",
     "text": [
      "inputs shape:  torch.Size([1, 64, 2, 3, 4])\n",
      "shuffled shape:  torch.Size([1, 1, 8, 12, 16])\n",
      "unshuffled shape:  torch.Size([1, 64, 2, 3, 4])\n"
     ]
    }
   ],
   "source": [
    "print('inputs shape: ', inputs.size())\n",
    "shuffled = pixel_shuffle(inputs, factor)\n",
    "print('shuffled shape: ', shuffled.size())\n",
    "unshuffled = pixel_unshuffle(shuffled, factor)\n",
    "print('unshuffled shape: ', unshuffled.size())\n",
    "\n",
    "assert np.all(unshuffled.numpy() == inputs.numpy())"
   ]
  }
 ],
 "metadata": {
  "kernelspec": {
   "display_name": "Python 3 (ipykernel)",
   "language": "python",
   "name": "python3"
  },
  "language_info": {
   "codemirror_mode": {
    "name": "ipython",
    "version": 3
   },
   "file_extension": ".py",
   "mimetype": "text/x-python",
   "name": "python",
   "nbconvert_exporter": "python",
   "pygments_lexer": "ipython3",
   "version": "3.8.10"
  }
 },
 "nbformat": 4,
 "nbformat_minor": 5
}
